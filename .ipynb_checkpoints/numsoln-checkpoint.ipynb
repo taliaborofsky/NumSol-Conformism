{
 "cells": [
  {
   "cell_type": "code",
   "execution_count": 272,
   "metadata": {},
   "outputs": [],
   "source": [
    "import sympy as sp\n",
    "from sympy import *\n",
    "from sympy.solvers import solve\n",
    "import numpy as np\n",
    "from numpy import linalg\n",
    "import scipy.stats as scs\n",
    "import matplotlib.pyplot as plt"
   ]
  },
  {
   "cell_type": "code",
   "execution_count": 232,
   "metadata": {},
   "outputs": [
    {
     "data": {
      "text/latex": [
       "$\\displaystyle \\left[\\begin{matrix}0 & -1\\\\1 & -3\\end{matrix}\\right]$"
      ],
      "text/plain": [
       "Matrix([\n",
       "[0, -1],\n",
       "[1, -3]])"
      ]
     },
     "execution_count": 232,
     "metadata": {},
     "output_type": "execute_result"
    }
   ],
   "source": [
    "# Example of finding jacobian at a specific point \n",
    "# from https://stackoverflow.com/questions/26669706/evaluating-jacobian-at-specific-points-using-sympy\n",
    "x,y = sp.symbols('x,y', real = True)\n",
    "f1 = -y\n",
    "f2 = x - 3*y*(1-x**2)\n",
    "F = sp.Matrix([f1,f2])\n",
    "F.jacobian([x,y])\n",
    "F.jacobian([x,y]).subs(([(x, 0),(y,0)])) #subs evaluates an expression at a point"
   ]
  },
  {
   "cell_type": "code",
   "execution_count": 228,
   "metadata": {},
   "outputs": [],
   "source": [
    "# declare symbols (which will be differentiated by)\n",
    "u1,u2,bu,x1, x2, bx, y1, y2, by, r1,r2,p = sp.symbols('u1,u2,bu,x1,x2,bx,y1,y2,by,r1,r2,p', real = True)\n",
    "\n",
    "#TO-DO: get actual possible parameter values\n",
    "mu = 0.1\n",
    "sigma = 1\n",
    "d = 0.3\n",
    "deltad = 0.05\n",
    "dprime = d + deltad\n",
    "D = 0.1\n",
    "Deps = 0.05\n",
    "Dprime = D + Deps\n",
    "norm = scs.norm(mu,sigma)\n",
    "\n",
    "\n",
    "def Kfun(d, norm):\n",
    "    K = norm.cdf(d) - norm.cdf(-d)\n",
    "    return(K)\n",
    "def pcfun(d, norm):\n",
    "    pc = 1 - norm.cdf(d)\n",
    "    return(pc)\n",
    "def pwfun(d,norm):\n",
    "    pw = norm.cdf(-d)\n",
    "    return(pw)\n",
    "\n",
    "\n",
    "#declare functions\n",
    "phi = p*(1 - p)*(2*p -1)\n",
    "\n",
    "u = u1 + u2 + bu\n",
    "x = x1 + x2 + bx\n",
    "y + y1 + y2 + by\n",
    "p1 = u1 + x1 + y1\n",
    "p2 = u2 + x2 + y2\n",
    "\n",
    "Wfu1 = u *(Kfun(d,norm)*(p1 + D*phi.subs([(p,p1)])) + pcfun(d,norm))*(1 + r1)\n",
    "Wfu2 = u * (Kfun(d,norm)*(p2 + D*phi.subs([(p,p2)])) + pcfun(d,norm))*(1 + r2)\n",
    "Wgu = u*(Kfun(d,norm)*(1 - p1 - p2 - D*phi.subs([(p,p1+p2)])) + pwfun(d,norm))\n",
    "Wfx1 = x *(Kfun(dprime,norm)*(p1 + D*phi.subs([(p,p1)])) + pcfun(dprime,norm))*(1 + r1)\n",
    "Wfx2 = x * (Kfun(dprime,norm)*(p2 + D*phi.subs([(p,p2)])) + pcfun(dprime,norm))*(1 + r2)\n",
    "Wgx = x*(Kfun(dprime,norm)*(1 - p1 - p2 - D*phi.subs([(p,p1+p2)])) + pwfun(dprime,norm))\n",
    "Wfy1 = u *(Kfun(d,norm)*(p1 + Dprime*phi.subs([(p,p1)])) + pcfun(d,norm))*(1 + r1)\n",
    "Wfy2 = u * (Kfun(d,norm)*(p2 + Dprime*phi.subs([(p,p2)])) + pcfun(d,norm))*(1 + r2)\n",
    "Wgy = u*(Kfun(d,norm)*(1 - p1 - p2 - Dprime*phi.subs([(p,p1+p2)])) + pwfun(d,norm))\n",
    "\n",
    "fr1 = (2*r1*(1-r1*p1))/(1+r1)\n",
    "fr2 = (2*r2*(1-r2*p2))/(1+r2)\n",
    "W = Wfu1 + Wfu2 + Wgu + Wfx1 + Wfx2 + Wgx + Wfy1 + Wfy2 + Wgy\n",
    "fu1, fu2, gu = Wfu1/W, Wfu2/W, Wgu/W\n",
    "fx1, fx2, gx = Wfx1/W, Wfx2/W, Wgx/W\n",
    "fy1, fy2, gy = Wfy1/W, Wfy2/W, Wgy/W\n",
    "\n",
    "\n",
    "# initial conditions\n",
    "\n",
    "\n",
    "# now do 1000 generations. Note that here bu = 1 - u1 - u2\n",
    "# update input eachtime\n",
    "\n",
    "\n",
    "\n",
    "\n"
   ]
  },
  {
   "cell_type": "code",
   "execution_count": 253,
   "metadata": {},
   "outputs": [],
   "source": [
    "# simulating when the population starts out with only members of the \n",
    "\n",
    "tsteps = range(0,100)\n",
    "u1vec = np.zeros(len(tsteps)+1,dtype = 'float')\n",
    "u2vec = np.zeros(len(tsteps)+1)\n",
    "buvec = np.zeros(len(tsteps)+1)\n",
    "r1vec = np.zeros(len(tsteps)+1)\n",
    "r2vec = np.zeros(len(tsteps)+1)\n",
    "u1vec[0] = 0\n",
    "u2vec[0] = 0\n",
    "buvec[0] = 1\n",
    "r1vec[0] = 1\n",
    "r2vec[0] = 1\n",
    "#inputvals = [(u1,u1vec[0]),(u2,u2vec[0]),(bu,buvec[0]),(x1,0),(x2,0),(bx,0),(y1,0),(y2,0),(by,0),\\\n",
    "#             (r1,r1vec[0]),(r2,r2vec[0])]\n",
    "\n",
    "for t in tsteps:\n",
    "    inputvals = [(u1,u1vec[t]),(u2,u2vec[t]),(bu,buvec[t]),(x1,0),(x2,0),(bx,0),(y1,0),(y2,0),(by,0),\\\n",
    "             (r1,r1vec[t]),(r2,r2vec[t])]\n",
    "    u1vec[t+1] = fu1.subs(inputvals)\n",
    "        #print(u1vec)\n",
    "    u2vec[t+1] = fu2.subs(inputvals)\n",
    "    buvec[t+1] = 1 - u1vec[t+1] - u2vec[t+1]\n",
    "    r1vec[t+1] = fr1.subs(inputvals)\n",
    "    r2vec[t+1] = fr2.subs(inputvals)\n",
    "    if u2vec[t+1] == u2vec[t]:\n",
    "        u2eq = u2vec[t]\n",
    "        u1eq = u1vec[t]\n",
    "        r1eq = r1vec[t]\n",
    "        r2eq = r2vec[t]\n",
    "        bueq = 1 - u1eq - u2eq\n",
    "    \n",
    "# now solve for"
   ]
  },
  {
   "cell_type": "code",
   "execution_count": 278,
   "metadata": {},
   "outputs": [
    {
     "data": {
      "text/plain": [
       "array([ 3.66520801e-01,  2.57954154e-01,  2.57954154e-01,  1.21158269e-01,\n",
       "       -6.08005174e-17])"
      ]
     },
     "execution_count": 278,
     "metadata": {},
     "output_type": "execute_result"
    }
   ],
   "source": [
    "#check if fixed point is stable\n",
    "fp = [(u1,u1eq),(u2,u2eq),(bu,bueq),(x1,0),(x2,0),(bx,0),\\\n",
    "             (y1,0),(y2,0),(by,0),(r1,r1eq),(r2,r2eq)]\n",
    "F = sp.Matrix([fu1,fu2,gu,fr1,fr2])\n",
    "J = F.jacobian([u1,u2,bu,r1,r2])\n",
    "J_fp = J.subs(fp)\n",
    "J_fp_np = np.array(J_fp).astype(np.float64)\n",
    "eigs, evecs = np.linalg.eig(J_fp_np)\n",
    "eigs.real"
   ]
  },
  {
   "cell_type": "code",
   "execution_count": 230,
   "metadata": {},
   "outputs": [
    {
     "data": {
      "text/plain": [
       "[<matplotlib.lines.Line2D at 0x12857df98>,\n",
       " <matplotlib.lines.Line2D at 0x12857d2e8>,\n",
       " <matplotlib.lines.Line2D at 0x12857d978>,\n",
       " <matplotlib.lines.Line2D at 0x12857d8d0>]"
      ]
     },
     "execution_count": 230,
     "metadata": {},
     "output_type": "execute_result"
    },
    {
     "data": {
      "image/png": "[encoded data removed]",
      "text/plain": [
       "<Figure size 432x288 with 1 Axes>"
      ]
     },
     "metadata": {
      "needs_background": "light"
     },
     "output_type": "display_data"
    }
   ],
   "source": [
    "t = range(0,101)\n",
    "plt.plot(t,u1vec, 'r--',u2vec,'b*', r1vec, 'g--', r2vec, \"ys\")\n"
   ]
  },
  {
   "cell_type": "code",
   "execution_count": null,
   "metadata": {},
   "outputs": [],
   "source": []
  },
  {
   "cell_type": "code",
   "execution_count": null,
   "metadata": {},
   "outputs": [],
   "source": []
  },
  {
   "cell_type": "code",
   "execution_count": null,
   "metadata": {},
   "outputs": [],
   "source": []
  },
  {
   "cell_type": "code",
   "execution_count": null,
   "metadata": {},
   "outputs": [],
   "source": []
  }
 ],
 "metadata": {
  "kernelspec": {
   "display_name": "Python 3",
   "language": "python",
   "name": "python3"
  },
  "language_info": {
   "codemirror_mode": {
    "name": "ipython",
    "version": 3
   },
   "file_extension": ".py",
   "mimetype": "text/x-python",
   "name": "python",
   "nbconvert_exporter": "python",
   "pygments_lexer": "ipython3",
   "version": "3.7.3"
  }
 },
 "nbformat": 4,
 "nbformat_minor": 2
}

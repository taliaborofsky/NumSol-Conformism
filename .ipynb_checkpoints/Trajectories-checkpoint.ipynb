{
 "cells": [
  {
   "cell_type": "markdown",
   "metadata": {},
   "source": [
    "# Plotting Trajectories\n",
    "Author: Talia Borofsky  \n",
    "Date:   Started 2/25/21  \n",
    "Project: Static environments with limited resources select for multiple foraging strategies rather than conformity  \n",
    "Description:\n",
    "- This code plots trajectories for interesting paramater combinations. We first plot $u_1, u_2, r_1, r_2$ trajectories for a population entirely made up of the resident phenogenotype $AB$. Then we show trajectories of $p_1, p_2, r_1, r_2, x, u$ when allele $a$ invades and $p_1, p_2, r_1, r_2, y,u$ when $b$ invades.\n",
    "- Data structures used are numpy arrays, tuples, lists, and dataframes loaded from csv files in the folder. \n",
    "- In particular, note that we use the program ternary to plot ternary plots"
   ]
  },
  {
   "cell_type": "code",
   "execution_count": 172,
   "metadata": {},
   "outputs": [],
   "source": [
    "import numpy as np\n",
    "#import importlib\n",
    "from numpy import linalg\n",
    "import helperfuns\n",
    "from helperfuns import *\n",
    "import DatFrameFuns\n",
    "from DatFrameFuns import *\n",
    "import scipy.stats as scs\n",
    "import matplotlib as mpl\n",
    "import matplotlib.pyplot as plt\n",
    "#importlib.reload(helperfuns)\n",
    "import pandas as pd\n",
    "#import sympy as sp\n",
    "#from sympy import *\n",
    "#from sympy.solvers import solve\n",
    "#np.set_printoptions(precision=3, suppress = True)\n",
    "#import seaborn as sns\n",
    "# next two libraries are used to flatten list of lists\n",
    "import functools\n",
    "import operator\n",
    "\n",
    "# for ternary plots\n",
    "import ternary\n",
    "\n",
    "\n",
    "# for formatting tick labels\n",
    "#from matplotlib.ticker import FormatStrFormatter\n",
    "\n",
    "#for parallelizing:\n",
    "import multiprocessing as mp\n",
    "from pathos.multiprocessing import ProcessingPool as Pool"
   ]
  },
  {
   "cell_type": "markdown",
   "metadata": {},
   "source": [
    "## Internal Stability"
   ]
  },
  {
   "cell_type": "markdown",
   "metadata": {},
   "source": [
    "### Functions"
   ]
  },
  {
   "cell_type": "code",
   "execution_count": 343,
   "metadata": {},
   "outputs": [],
   "source": [
    "# functio make_internal_traj_plots\n",
    "# Summary: \n",
    "#       Plots the trajectories of u1, u2, bu, r1, and r2 when u = 1, \n",
    "#       i.e. all individuals are resident type AB\n",
    "# Parameters\n",
    "#       init_pts: a dataframe that is a subset of the dataframe from data.csv that shows initial points,\n",
    "#                 mode parameters, and final equilibrium. Parameters are the same for each initial point\n",
    "#       colors: The colors corresponding to each row of the init_pts dataframe.\n",
    "# Returns:\n",
    "#       returns the axes and figure handles for the ternary plot and the cartesian plot\n",
    "#       Also returns a dataframe of the trajectories\n",
    "# Description:\n",
    "#       u1,u2,bu are plotted in a ternary plot. \n",
    "#       r1 and r2 are plotted on a cartesian plot\n",
    "\n",
    "def make_internal_traj_plots(init_pts, colors):\n",
    "    # format axes and figures\n",
    "    fig_u, tax = format_my_ternary() # initiates a ternary plot and formats axes\n",
    "    fig_r, ax_r = format_r_plot() # initiates cartesian plot and formats axes\n",
    "    init_pts['color'] = colors # put in column for color\n",
    "    \n",
    "    # for each initial point, we find the trajectory and plot it\n",
    "    # we want to record these trajectories. I'll make a dataframe of points for each trajectory, \n",
    "    # and then stack these dataframes into one master frame\n",
    "    \n",
    "    nrow = len(init_pts)\n",
    "    row_list = np.array_split(init_pts,nrow)\n",
    "    \n",
    "    traj_df_list = [get_trajectory(row) for row in row_list]\n",
    "    \n",
    "    \n",
    "    plot_my_traj_u(traj_df_list,init_pts,fig_u,tax)\n",
    "    plot_my_traj_r(traj_df_list,fig_r,ax_r)\n",
    "    \n",
    "    \n",
    "    trajectories_df = pd.concat(traj_df_list) # makes a dataframe of all the trajectories\n",
    "    # colnames = [\"u1\",\"u2\",\"bu\",\"r1\",\"r2\",\"timestep\",\"color\"]\n",
    "    # trajectories_df = pd.DataFrame(trajectories_mat,columns = colnames)\n",
    "    \n",
    "    trajectories_df = pd.merge(left=trajectories_df, right=init_pts, \n",
    "                               on = 'color').sort_values(by=['color','tstep'])\n",
    "\n",
    "    return(tax, fig_u, ax_r, fig_r, trajectories_df, traj_df_list)\n",
    "\n",
    "# function format_my_ternary\n",
    "# Summary: Sets up a ternary plot\n",
    "# Parameters: None\n",
    "# Returns: Handles to the figure and ternary axis\n",
    "# Description:\n",
    "#   Uses package ternary to create a ternary plot\n",
    "#   Gets rid of the outer box and sets tick marks and axis labels\n",
    "def format_my_ternary():\n",
    "    scale = 1\n",
    "    fig_u, tax = ternary.figure(scale=scale)\n",
    "    \n",
    "    # set up bounderize and size\n",
    "    fig_u.set_size_inches(5,5)\n",
    "    tax.boundary()\n",
    "    \n",
    "    # tick preferences\n",
    "    tax.ticks(axis='lbr', multiple=.2, linewidth=1, \n",
    "              offset = 0.02, tick_formats = \"%.1f\"), \n",
    "    \n",
    "    # turn off matplotlib's outer box and ticks\n",
    "    tax.get_axes().axis('off')\n",
    "    tax.clear_matplotlib_ticks()\n",
    "    \n",
    "    \n",
    "    # Label corners\n",
    "    fontsize = 12\n",
    "    tax.right_corner_label(r'$u_1$', fontsize=fontsize, offset = 0.2)\n",
    "    tax.top_corner_label(r'$u_2$', fontsize=fontsize, offset = 0.2)\n",
    "    tax.left_corner_label(r'$\\bar{u}$', fontsize=fontsize, offset = 0.2)\n",
    "    return(fig_u,tax)\n",
    "\n",
    "def format_r_plot():\n",
    "    \n",
    "    fig, ax = plt.subplots(1,1,figsize = (4,4))\n",
    "        #TO-DO// FILL IN\n",
    "\n",
    "\n",
    "    return(fig,ax)\n",
    "\n",
    "\n",
    "    \n",
    "def plot_my_traj_u(traj_df_list, init_pts, fig_u, tax):\n",
    "    for i in range(0,4):\n",
    "        traj_df = traj_df_list[i]\n",
    "        traj_df = traj_df.sort_values(by=\"tstep\")\n",
    "        umat = traj_df[['u1','u2','bu']].values\n",
    "        trajectory = list(map(tuple,umat))\n",
    "    #color = traj_df.color[0]\n",
    "        tax.plot(trajectory, color = traj_df.color.values[0], label = \"initial point %d\"%i)\n",
    "    \n",
    "    # plot initial points as black squares\n",
    "    init_u_pts = list(map(tuple, init_pts[['u1init','u2init','buinit']].values ))\n",
    "    tax.scatter(init_u_pts, marker='s', color='k', label=\"Initial Points\")\n",
    "    equilibria = pd.unique(list(map(tuple, init_pts[['u1eq','u2eq','bueq']].values )))\n",
    "    \n",
    "    # plot equilibrium (or equilibria) as a black star\n",
    "    eqlabel = 'equilibrium' if len(equilibria) == 1 else 'equilibria'\n",
    "    tax.scatter(equilibria, marker = '*', color = 'k', label = eqlabel, s = 100)\n",
    "    tax.legend()\n",
    "\n",
    "    return(1)\n",
    "\n",
    "# function get_trajectory(row)\n",
    "# Summary: Iterates from initial point until it approximately reaches equilibrium\n",
    "# parameters:\n",
    "#    row - a row from the init_pts dataframe.\n",
    "# Returns:\n",
    "#    traj_df, a dataframe with the values of u1, u2, bu, r1, r2 for each time step until they reach the equilibrium\n",
    "# Description:\n",
    "#    iterate until u1 \\approx u1eq, u2 \\approx u2eq, etc. u1eq, u2eq, ... are from row\n",
    "#    formats each iteration as a row in a dataframe, then appends to a list\n",
    "#    the list is fed into pd.concat to make a full dataframe\n",
    "def get_trajectory(row):\n",
    "    \n",
    "    # assigning columns to variables for more readability\n",
    "    K,pc,D,beta, u1, u2, bu, r1, r2 = np.transpose(row[['K','pc','D','beta', 'u1init','u2init',\n",
    "                                                       'buinit', 'r1init','r2init']].values)\n",
    "    uvec = [u1,u2,bu]; rvec = [r1,r2]\n",
    "    xvec = [0,0,0]\n",
    "    yvec = [0,0,0]\n",
    "    list_rows = []\n",
    "    eq_pt = row[['u1eq','u2eq','bueq','r1eq','r2eq']]\n",
    "    for t in range(0,200):\n",
    "        curr_row = pd.DataFrame({\"u1\":uvec[0], \"u2\": uvec[1], \"bu\": uvec[2], \"r1\":rvec[0], \"r2\": rvec[1],\n",
    "                                 \"tstep\":t, \"color\":row.color})\n",
    "        list_rows.append(curr_row)\n",
    "        curr_pt = curr_row[['u1','u2','bu','r1','r2']]\n",
    "        if np.allclose(curr_pt, eq_pt,rtol = 1e-6, atol = 1e-6):\n",
    "            break\n",
    "        else:\n",
    "            uvec,xvec,yvec,rvec,W = NextGen(uvec,xvec,yvec,rvec,D,K,pc,beta)\n",
    "    \n",
    "    traj_df =  pd.concat(list_rows) \n",
    "    return(traj_df.sort_values(by=['tstep']))\n",
    "        \n",
    "\n",
    "def plot_my_traj_r(traj_df, fig_r, ax_r):\n",
    "    \n",
    "    #ax_r.legend()\n",
    "    return(1)\n"
   ]
  },
  {
   "cell_type": "markdown",
   "metadata": {},
   "source": [
    "### Load DataFrames"
   ]
  },
  {
   "cell_type": "code",
   "execution_count": 344,
   "metadata": {},
   "outputs": [],
   "source": [
    "\n",
    "df_UniqueEquilibria = pd.read_csv('UniqueEquilibriaDF.csv')\n",
    "df_InitialPoints = pd.read_csv('data.csv')\n",
    "\n"
   ]
  },
  {
   "cell_type": "markdown",
   "metadata": {},
   "source": [
    "### Choose paramater combo to look at and initial points\n",
    "Store the equilibria. We will use this for stopping the trajectory function\n",
    "\n",
    "I'll choose a value where there is moderate food depletion ($\\beta = 0.5$) and poor information ($\\mu = -0.5$)"
   ]
  },
  {
   "cell_type": "code",
   "execution_count": 345,
   "metadata": {},
   "outputs": [],
   "source": [
    "# choose equilibria where \n",
    "row_init_eq = df_UniqueEquilibria.query('K==0 & x_pos_invades==True & beta == 0.5 & D==0 & mu==-0.5')\n",
    "init_pts_all = df_InitialPoints.query('K==0 & beta == 0.5 & D==0 & mu == -0.5')\n",
    "\n",
    "colors = ['r','c','m','k']\n",
    "# choose initial points\n",
    "row1 = init_pts_all.query('u1init==0.05 &  u2init == 0.1 & r1init == 0.45 & r2init ==0.5')\n",
    "row2 = init_pts_all.query('u1init==0.3 &  u2init == 0.6 & r1init == 0.05 &  r2init ==0.1 ')\n",
    "row3 = init_pts_all.query('u1init==0.48 &  u2init == 0.5 & r1init == 0.45 & r2init ==0.5')\n",
    "row4 = init_pts_all.query('u1init==0.08 &  u2init == 0.9 & r1init == 0.05 &  r2init ==0.1 ')\n",
    "init_pts = pd.concat([row1,row2,row3,row4])\n"
   ]
  },
  {
   "cell_type": "markdown",
   "metadata": {},
   "source": [
    "### For each initial point, plot trajectory\n",
    "Using stored equilibrium to check when to stop"
   ]
  },
  {
   "cell_type": "code",
   "execution_count": 346,
   "metadata": {},
   "outputs": [
    {
     "data": {
      "image/png": "[encoded data removed]",
      "text/plain": [
       "<Figure size 360x360 with 1 Axes>"
      ]
     },
     "metadata": {},
     "output_type": "display_data"
    },
    {
     "data": {
      "image/png": "[encoded data removed]",
      "text/plain": [
       "<Figure size 288x288 with 1 Axes>"
      ]
     },
     "metadata": {
      "needs_background": "light"
     },
     "output_type": "display_data"
    }
   ],
   "source": [
    "tax, fig_u, ax_r, fig_r, trajectories_df, traj_df_list = make_internal_traj_plots(init_pts, colors)\n",
    "\n"
   ]
  },
  {
   "cell_type": "code",
   "execution_count": 320,
   "metadata": {},
   "outputs": [
    {
     "ename": "ValueError",
     "evalue": "too many values to unpack (expected 2)",
     "output_type": "error",
     "traceback": [
      "\u001b[0;31m---------------------------------------------------------------------------\u001b[0m",
      "\u001b[0;31mValueError\u001b[0m                                Traceback (most recent call last)",
      "\u001b[0;32m<ipython-input-320-85635b66b49a>\u001b[0m in \u001b[0;36m<module>\u001b[0;34m\u001b[0m\n\u001b[0;32m----> 1\u001b[0;31m \u001b[0;32mfor\u001b[0m \u001b[0mi\u001b[0m\u001b[0;34m,\u001b[0m \u001b[0mj\u001b[0m \u001b[0;32min\u001b[0m \u001b[0mrange\u001b[0m\u001b[0;34m(\u001b[0m\u001b[0;36m1\u001b[0m\u001b[0;34m,\u001b[0m\u001b[0;36m5\u001b[0m\u001b[0;34m)\u001b[0m\u001b[0;34m,\u001b[0m\u001b[0mrange\u001b[0m\u001b[0;34m(\u001b[0m\u001b[0;36m2\u001b[0m\u001b[0;34m,\u001b[0m\u001b[0;36m6\u001b[0m\u001b[0;34m)\u001b[0m\u001b[0;34m:\u001b[0m\u001b[0;34m\u001b[0m\u001b[0;34m\u001b[0m\u001b[0m\n\u001b[0m\u001b[1;32m      2\u001b[0m     \u001b[0mprint\u001b[0m\u001b[0;34m(\u001b[0m\u001b[0mi\u001b[0m\u001b[0;34m)\u001b[0m\u001b[0;34m\u001b[0m\u001b[0;34m\u001b[0m\u001b[0m\n\u001b[1;32m      3\u001b[0m     \u001b[0mprint\u001b[0m\u001b[0;34m(\u001b[0m\u001b[0mj\u001b[0m\u001b[0;34m)\u001b[0m\u001b[0;34m\u001b[0m\u001b[0;34m\u001b[0m\u001b[0m\n",
      "\u001b[0;31mValueError\u001b[0m: too many values to unpack (expected 2)"
     ]
    }
   ],
   "source": [
    "for i, j in range(1,5),range(2,6):\n",
    "    print(i)\n",
    "    print(j)"
   ]
  },
  {
   "cell_type": "code",
   "execution_count": 268,
   "metadata": {},
   "outputs": [
    {
     "data": {
      "text/plain": [
       "Unnamed: 0      111252\n",
       "mu                -0.5\n",
       "K                    0\n",
       "pc            0.308538\n",
       "s                    0\n",
       "D                   -0\n",
       "beta               0.5\n",
       "u1init            0.48\n",
       "u2init             0.5\n",
       "buinit            0.02\n",
       "r1init             0.1\n",
       "r2init            0.05\n",
       "u1eq          0.311039\n",
       "u2eq          0.311039\n",
       "bueq          0.377922\n",
       "r1eq           0.84448\n",
       "r2eq           0.84448\n",
       "Weq            1.82965\n",
       "time            200000\n",
       "reached_eq           1\n",
       "URstable             0\n",
       "iterated          True\n",
       "color                k\n",
       "Name: 111252, dtype: object"
      ]
     },
     "execution_count": 268,
     "metadata": {},
     "output_type": "execute_result"
    }
   ],
   "source": [
    "row"
   ]
  },
  {
   "cell_type": "code",
   "execution_count": null,
   "metadata": {},
   "outputs": [],
   "source": []
  }
 ],
 "metadata": {
  "kernelspec": {
   "display_name": "Python 3",
   "language": "python",
   "name": "python3"
  },
  "language_info": {
   "codemirror_mode": {
    "name": "ipython",
    "version": 3
   },
   "file_extension": ".py",
   "mimetype": "text/x-python",
   "name": "python",
   "nbconvert_exporter": "python",
   "pygments_lexer": "ipython3",
   "version": "3.7.6"
  }
 },
 "nbformat": 4,
 "nbformat_minor": 4
}

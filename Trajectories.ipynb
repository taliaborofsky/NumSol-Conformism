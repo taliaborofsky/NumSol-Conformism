{
 "cells": [
  {
   "cell_type": "markdown",
   "metadata": {},
   "source": [
    "# Plotting Trajectories\n",
    "Author: Talia Borofsky  \n",
    "Date:   Started 2/25/21  \n",
    "Project: Static environments with limited resources select for multiple foraging strategies rather than conformity  \n",
    "Description:\n",
    "- This code plots trajectories for interesting paramater combinations. We first plot $u_1, u_2, r_1, r_2$ trajectories for a population entirely made up of the resident phenogenotype $AB$. Then we show trajectories of $p_1, p_2, r_1, r_2, x, u$ when allele $a$ invades and $p_1, p_2, r_1, r_2, y,u$ when $b$ invades.\n",
    "- Data structures used are numpy arrays, tuples, lists, and dataframes loaded from csv files in the folder. \n",
    "- In particular, note that we use the program ternary to plot ternary plots"
   ]
  },
  {
   "cell_type": "code",
   "execution_count": 49,
   "metadata": {},
   "outputs": [],
   "source": [
    "import numpy as np\n",
    "#import importlib\n",
    "from numpy import linalg\n",
    "import helperfuns\n",
    "from helperfuns import *\n",
    "import DatFrameFuns\n",
    "from DatFrameFuns import *\n",
    "import scipy.stats as scs\n",
    "import matplotlib as mpl\n",
    "import matplotlib.pyplot as plt\n",
    "#importlib.reload(helperfuns)\n",
    "import pandas as pd\n",
    "#import sympy as sp\n",
    "#from sympy import *\n",
    "#from sympy.solvers import solve\n",
    "#np.set_printoptions(precision=3, suppress = True)\n",
    "#import seaborn as sns\n",
    "# next two libraries are used to flatten list of lists\n",
    "import functools\n",
    "import operator\n",
    "\n",
    "# for ternary plots\n",
    "import ternary\n",
    "\n",
    "\n",
    "# for formatting tick labels\n",
    "#from matplotlib.ticker import FormatStrFormatter\n",
    "\n",
    "#for parallelizing:\n",
    "import multiprocessing as mp\n",
    "from pathos.multiprocessing import ProcessingPool as Pool"
   ]
  },
  {
   "cell_type": "markdown",
   "metadata": {},
   "source": [
    "## Internal Stability"
   ]
  },
  {
   "cell_type": "markdown",
   "metadata": {},
   "source": [
    "### Functions"
   ]
  },
  {
   "cell_type": "code",
   "execution_count": 121,
   "metadata": {},
   "outputs": [],
   "source": [
    "# functio make_internal_traj_plots\n",
    "# Summary: \n",
    "#       Plots the trajectories of u1, u2, bu, r1, and r2 when u = 1, \n",
    "#       i.e. all individuals are resident type AB\n",
    "# Parameters\n",
    "#       init_pts: a dataframe that is a subset of the dataframe from data.csv that shows initial points,\n",
    "#                 mode parameters, and final equilibrium. Parameters are the same for each initial point\n",
    "#       colors: The colors corresponding to each row of the init_pts dataframe.\n",
    "# Returns:\n",
    "#       returns the axes and figure handles for the ternary plot and the cartesian plot\n",
    "#       Also returns a dataframe of the trajectories\n",
    "# Description:\n",
    "#       u1,u2,bu are plotted in a ternary plot. \n",
    "#       r1 and r2 are plotted on a cartesian plot\n",
    "\n",
    "def make_internal_traj_plots(init_pts, colors):\n",
    "    # format axes and figures\n",
    "    fig_u, tax = format_my_ternary() # initiates a ternary plot and formats axes\n",
    "    fig_r, ax_r = format_r_plot() # initiates cartesian plot and formats axes\n",
    "    init_pts['color'] = colors # put in column for color\n",
    "    \n",
    "    # for each initial point, we find the trajectory and plot it\n",
    "    # we want to record these trajectories. I'll make a dataframe of points for each trajectory, \n",
    "    # and then stack these dataframes into one master frame\n",
    "    \n",
    "    nrow = len(init_pts)\n",
    "    row_list = np.array_split(init_pts,nrow)\n",
    "    trajectory_list = [get_and_plot_trajectory(row,fig_u,tax,fig_r,ax_r) for row in row_list]\n",
    "    trajectories_df = pd.concat(trajectory_list) # makes a matrix\n",
    "    # colnames = [\"u1\",\"u2\",\"bu\",\"r1\",\"r2\",\"timestep\",\"color\"]\n",
    "    # trajectories_df = pd.DataFrame(trajectories_mat,columns = colnames)\n",
    "    \n",
    "    trajectories_df = pd.merge(left=trajectories_df, right=init_pts, \n",
    "                               on = 'color').sort_values(by=['color','timestep'])\n",
    "\n",
    "    return(tax, fig_u, ax_r, fig_r, trajectories_df)\n",
    "\n",
    "def format_my_ternary():\n",
    "    scale = 30\n",
    "    fig_u, tax = ternary.figure(scale=scale)\n",
    "    #TO-DO// FILL IN\n",
    "    return(fig_u,tax)\n",
    "\n",
    "def format_r_plot():\n",
    "    \n",
    "    fig, ax = plt.subplots(1,1,figsize = (4,4))\n",
    "        #TO-DO// FILL IN\n",
    "\n",
    "\n",
    "    return(fig,ax)\n",
    "\n",
    "# function get_and_plot_trajectory(row, fig_u, tax, fig_r, ax_r)\n",
    "# Summary: This function iterates from an initial points and plots the trajectory.\n",
    "# Parameters:\n",
    "#    row - a row from the init_pts dataframe.\n",
    "#    fig_u, tax - figure and axis handle for ternary plot of u1, u2, bu\n",
    "#    fig_r, ax_r - figure and axis handle for plot of r1, r2\n",
    "# Returns:\n",
    "#    traj_df, a dataframe with the values of u1, u2, bu, r1, r2 for each time step until they reach the equilibrium\n",
    "# Description: \n",
    "#    uses get_trajectory to iterate until u1 = u1eq (uses the u1eq, r1eq, etc from row)\n",
    "#    sends this trajectory to plot_my_traj_u and plot_my_traj_r for plotting\n",
    "def get_and_plot_trajectory(row, fig_u,tax,fig_r,ax_r):\n",
    "    trajectory_df = get_trajectory(row)\n",
    "    plot_my_traj_u(trajectory_df,fig_u,tax)\n",
    "    plot_my_traj_r(trajectory_df,fig_r,ax_r)\n",
    "    return(trajectory_df)\n",
    "\n",
    "    \n",
    "def plot_my_traj_u(traj_df, fig_u, tax):\n",
    "    return(1)\n",
    "\n",
    "# function get_trajectory(row)\n",
    "# parameters:\n",
    "#     row = a row from the dataframe init_pts\n",
    "\n",
    "def get_trajectory(row):\n",
    "    \n",
    "    # assigning columns to variables for more readability\n",
    "    K,pc,D,beta, u1, u2, bu, r1, r2 = np.transpose(row[['K','pc','D','beta', 'u1init','u2init',\n",
    "                                                       'buinit', 'r1init','r2init']].values)\n",
    "    uvec = [u1,u2,bu]; rvec = [r1,r2]\n",
    "    xvec = [0,0,0]\n",
    "    yvec = [0,0,0]\n",
    "    list_rows = []\n",
    "    for t in range(0,200000):\n",
    "        curr_row = pd.DataFrame({\"u1\":uvec[0], \"u2\": uvec[1], \"bu\": uvec[2], \"r1\":rvec[0], \"r2\": rvec[1],\n",
    "                                 \"tstep\":t, \"color\":row.color})\n",
    "        list_rows.append(curr_row)\n",
    "        if np.allclose([*uvec,*rvec], row[['u1eq','u2eq','bueq','r1eq','r2eq']],rtol = 1e-6, atol = 1e-6):\n",
    "            break\n",
    "        else:\n",
    "            uvec,xvec,yvec,rvec,W = NextGen(uvec,xvec,yvec,rvec,D,K,pc,beta)\n",
    "    \n",
    "    traj_df =  pd.concat(list_rows) \n",
    "    return(traj_df)\n",
    "        \n",
    "        # use break to leave for loop once at equilibrium\n",
    "    u1vec = [0,0]\n",
    "    u2vec = [0,0]\n",
    "    buvec = [1,1]\n",
    "    r1vec = [1,1]\n",
    "    r2vec = [1,1]\n",
    "    tstep = [1,2]\n",
    "    color = ['r','c']\n",
    "    to_return = pd.DataFrame({\"u1\":u1vec, \"u2\":u2vec,\"bu\":buvec, \"r1\":r1vec, \"r2\": r2vec, \"timestep\": tstep, \"color\":color })\n",
    "    return(to_return)\n",
    "\n",
    "def plot_my_traj_r(traj_df, fig_r, ax_r):\n",
    "    return(1)\n"
   ]
  },
  {
   "cell_type": "markdown",
   "metadata": {},
   "source": [
    "### Load DataFrames"
   ]
  },
  {
   "cell_type": "code",
   "execution_count": 117,
   "metadata": {},
   "outputs": [],
   "source": [
    "df_UniqueEquilibria = pd.read_csv('UniqueEquilibriaDF.csv')\n",
    "df_InitialPoints = pd.read_csv('data.csv')"
   ]
  },
  {
   "cell_type": "markdown",
   "metadata": {},
   "source": [
    "### Choose paramater combo to look at and initial points\n",
    "Store the equilibria. We will use this for stopping the trajectory function\n",
    "\n",
    "I'll choose a value where there is moderate food dpletion ($\\beta = 0.5$) and poor information ($\\mu = -0.5$)"
   ]
  },
  {
   "cell_type": "code",
   "execution_count": 118,
   "metadata": {},
   "outputs": [],
   "source": [
    "# choose equilibria where \n",
    "row_init_eq = df_UniqueEquilibria.query('K==0 & x_pos_invades==True & beta == 0.5 & D==0 & mu==-0.5')\n",
    "init_pts_all = df_InitialPoints.query('K==0 & beta == 0.5 & D==0 & mu == -0.5')\n",
    "init_pts = init_pts_all.sample(4)\n"
   ]
  },
  {
   "cell_type": "markdown",
   "metadata": {},
   "source": [
    "### For each initial point, plot trajectory\n",
    "Using stored equilibrium to check when to stop"
   ]
  },
  {
   "cell_type": "code",
   "execution_count": 119,
   "metadata": {},
   "outputs": [
    {
     "data": {
      "image/png": "[encoded data removed]",
      "text/plain": [
       "<Figure size 432x288 with 1 Axes>"
      ]
     },
     "metadata": {
      "needs_background": "light"
     },
     "output_type": "display_data"
    },
    {
     "data": {
      "image/png": "[encoded data removed]",
      "text/plain": [
       "<Figure size 288x288 with 1 Axes>"
      ]
     },
     "metadata": {
      "needs_background": "light"
     },
     "output_type": "display_data"
    }
   ],
   "source": [
    "tax, fig_u, ax_r, fig_r, trajectories_df = make_internal_traj_plots(init_pts, colors)"
   ]
  },
  {
   "cell_type": "code",
   "execution_count": 88,
   "metadata": {},
   "outputs": [
    {
     "data": {
      "text/html": [
       "<div>\n",
       "<style scoped>\n",
       "    .dataframe tbody tr th:only-of-type {\n",
       "        vertical-align: middle;\n",
       "    }\n",
       "\n",
       "    .dataframe tbody tr th {\n",
       "        vertical-align: top;\n",
       "    }\n",
       "\n",
       "    .dataframe thead th {\n",
       "        text-align: right;\n",
       "    }\n",
       "</style>\n",
       "<table border=\"1\" class=\"dataframe\">\n",
       "  <thead>\n",
       "    <tr style=\"text-align: right;\">\n",
       "      <th></th>\n",
       "      <th>u1</th>\n",
       "      <th>u2</th>\n",
       "      <th>bu</th>\n",
       "      <th>r1</th>\n",
       "      <th>r2</th>\n",
       "      <th>timestep</th>\n",
       "      <th>color</th>\n",
       "    </tr>\n",
       "  </thead>\n",
       "  <tbody>\n",
       "    <tr>\n",
       "      <th>0</th>\n",
       "      <td>0.0</td>\n",
       "      <td>0.0</td>\n",
       "      <td>1</td>\n",
       "      <td>1.0</td>\n",
       "      <td>1.0</td>\n",
       "      <td>1</td>\n",
       "      <td>r</td>\n",
       "    </tr>\n",
       "    <tr>\n",
       "      <th>1</th>\n",
       "      <td>0.5</td>\n",
       "      <td>0.5</td>\n",
       "      <td>0</td>\n",
       "      <td>0.2</td>\n",
       "      <td>0.5</td>\n",
       "      <td>2</td>\n",
       "      <td>c</td>\n",
       "    </tr>\n",
       "  </tbody>\n",
       "</table>\n",
       "</div>"
      ],
      "text/plain": [
       "    u1   u2  bu   r1   r2  timestep color\n",
       "0  0.0  0.0   1  1.0  1.0         1     r\n",
       "1  0.5  0.5   0  0.2  0.5         2     c"
      ]
     },
     "execution_count": 88,
     "metadata": {},
     "output_type": "execute_result"
    }
   ],
   "source": [
    "to_return"
   ]
  },
  {
   "cell_type": "code",
   "execution_count": 86,
   "metadata": {},
   "outputs": [
    {
     "data": {
      "text/plain": [
       "['k', 'c', 'm', 'r']"
      ]
     },
     "execution_count": 86,
     "metadata": {},
     "output_type": "execute_result"
    }
   ],
   "source": [
    "init_pts.color"
   ]
  },
  {
   "cell_type": "code",
   "execution_count": null,
   "metadata": {},
   "outputs": [],
   "source": []
  }
 ],
 "metadata": {
  "kernelspec": {
   "display_name": "Python 3",
   "language": "python",
   "name": "python3"
  },
  "language_info": {
   "codemirror_mode": {
    "name": "ipython",
    "version": 3
   },
   "file_extension": ".py",
   "mimetype": "text/x-python",
   "name": "python",
   "nbconvert_exporter": "python",
   "pygments_lexer": "ipython3",
   "version": "3.7.6"
  }
 },
 "nbformat": 4,
 "nbformat_minor": 4
}

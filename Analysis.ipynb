{
 "cells": [
  {
   "cell_type": "markdown",
   "metadata": {},
   "source": [
    "We are setting information at the normal curve $N(0.2,1)$."
   ]
  },
  {
   "cell_type": "code",
   "execution_count": 1,
   "metadata": {},
   "outputs": [],
   "source": [
    "#from PIL import Image\n",
    "#import sys\n",
    "#sys.path.append('/usr/local/lib/python3.7/site-packages')\n",
    "import os\n",
    "import numpy as np\n",
    "import importlib\n",
    "from numpy import linalg\n",
    "import helperfuns \n",
    "from helperfuns import *\n",
    "import scipy.stats as scs\n",
    "import matplotlib as mpl\n",
    "import matplotlib.pyplot as plt\n",
    "#importlib.reload(helperfuns)\n",
    "import pandas as pd\n",
    "import sympy as sp\n",
    "from sympy import *\n",
    "from sympy.solvers import solve\n",
    "np.set_printoptions(precision=3, suppress = True)\n",
    "import pandas as pd\n",
    "import seaborn as sns\n",
    "# next two libraries are used to flatten list of lists\n",
    "import functools\n",
    "import operator\n",
    "# for formatting tick labels\n",
    "from matplotlib.ticker import FormatStrFormatter"
   ]
  },
  {
   "cell_type": "markdown",
   "metadata": {},
   "source": [
    "Declare symbols used"
   ]
  },
  {
   "cell_type": "code",
   "execution_count": 2,
   "metadata": {},
   "outputs": [],
   "source": [
    "from sympy.abc import lamda\n",
    "from sympy.abc import beta, eta, gamma\n",
    "from sympy.abc import theta, xi\n",
    "#Dw, Du1, Du2, Dbu, Dp1, Dp2 = sp.symbols('\\Delta_w, \\Delta_{u_1}, \\Delta_{u_2}, \\Delta_{u_3}, \\Delta_{p_1}, \\Delta_{p_2}', real = True)\n",
    "#Dx1, Dx2, Dbx, Dy1, Dy2, Dby, Dr1, Dr2 = sp.symbols('\\Delta_{x_1}, \\Delta_{x_2}, \\Delta_{x_3}, \\Delta_{y_1}, \\Delta_{y_2}, \\Delta_{y_3}, \\Delta_{r_1}, \\Delta_{r_2}', real = True)\n",
    "#U1,U2,bU,X1,X2,bX,Y1,Y2,bY,A1,A2 = sp.symbols('U_1,U_2,U_3,X_1,X_2,X_3,Y_1,Y_2,Y_3,A_1,A_2', real = True)\n",
    "p, u,u1,u2,bu,x1,x2,bx,y1,y2,by,r1,r2, W = sp.symbols('p, u,\\hat{u_1},\\hat{u_2},\\bar{u},x_1,x_2,x_3,y_1,y_2,y_3,\\hat{r_1},\\hat{r_2}, W', real = True)\n",
    "ui,uj,ri,rj = sp.symbols('u_i, u_j, r_i, r_j')\n",
    "K,D,pc, pw = sp.symbols('K,D,\\pi_C, \\pi_W', real = True)\n",
    "ds, dD, dk, dpc, dpw = sp.symbols('\\delta_s, \\delta_D, \\delta_K, \\delta_{\\pi_C}, \\delta_{\\pi_W}', real = True)\n",
    "l = sp.symbols('\\lambda', real = True)\n",
    "fs = sp.symbols('f(s)', real = True)\n"
   ]
  },
  {
   "cell_type": "code",
   "execution_count": 3,
   "metadata": {},
   "outputs": [],
   "source": [
    "phi = p*(2*p -1)*(1-p)\n",
    "Wu1 = u*(1 + r1)*(K*(u1 + D*phi.subs([(p,u1)])) + pc)\n",
    "Wu2 = u*(1 + r2)*(K*(u2 + D*phi.subs([(p,u2)])) + pc)\n",
    "Wbu = u*(K*(1 - u1 - u2 - D*phi.subs([(p,u1)])-D*phi.subs([(p,u2)])) + pw)\n",
    "Wval = Wu1 + Wu2 + Wbu"
   ]
  },
  {
   "cell_type": "markdown",
   "metadata": {},
   "source": [
    "# Local Stability"
   ]
  },
  {
   "cell_type": "code",
   "execution_count": 4,
   "metadata": {},
   "outputs": [
    {
     "ename": "NameError",
     "evalue": "name 'Du1' is not defined",
     "output_type": "error",
     "traceback": [
      "\u001b[0;31m---------------------------------------------------------------------------\u001b[0m",
      "\u001b[0;31mNameError\u001b[0m                                 Traceback (most recent call last)",
      "\u001b[0;32m<ipython-input-4-a4bb80bc8fa4>\u001b[0m in \u001b[0;36m<module>\u001b[0;34m\u001b[0m\n\u001b[0;32m----> 1\u001b[0;31m \u001b[0mDu\u001b[0m \u001b[0;34m=\u001b[0m \u001b[0mDu1\u001b[0m \u001b[0;34m+\u001b[0m \u001b[0mDu2\u001b[0m \u001b[0;34m+\u001b[0m \u001b[0mDbu\u001b[0m\u001b[0;34m\u001b[0m\u001b[0;34m\u001b[0m\u001b[0m\n\u001b[0m\u001b[1;32m      2\u001b[0m \u001b[0mDx\u001b[0m \u001b[0;34m=\u001b[0m \u001b[0mDx1\u001b[0m \u001b[0;34m+\u001b[0m \u001b[0mDx2\u001b[0m \u001b[0;34m+\u001b[0m \u001b[0mDbx\u001b[0m\u001b[0;34m\u001b[0m\u001b[0;34m\u001b[0m\u001b[0m\n\u001b[1;32m      3\u001b[0m \u001b[0mDy\u001b[0m \u001b[0;34m=\u001b[0m \u001b[0mDy1\u001b[0m \u001b[0;34m+\u001b[0m \u001b[0mDy2\u001b[0m \u001b[0;34m+\u001b[0m \u001b[0mDby\u001b[0m\u001b[0;34m\u001b[0m\u001b[0;34m\u001b[0m\u001b[0m\n\u001b[1;32m      4\u001b[0m \u001b[0;32mfrom\u001b[0m \u001b[0msympy\u001b[0m\u001b[0;34m.\u001b[0m\u001b[0mabc\u001b[0m \u001b[0;32mimport\u001b[0m \u001b[0mphi\u001b[0m\u001b[0;34m\u001b[0m\u001b[0;34m\u001b[0m\u001b[0m\n\u001b[1;32m      5\u001b[0m \u001b[0mphi1\u001b[0m \u001b[0;34m=\u001b[0m \u001b[0msp\u001b[0m\u001b[0;34m.\u001b[0m\u001b[0msymbols\u001b[0m\u001b[0;34m(\u001b[0m\u001b[0;34m'\\phi_1'\u001b[0m\u001b[0;34m)\u001b[0m\u001b[0;34m\u001b[0m\u001b[0;34m\u001b[0m\u001b[0m\n",
      "\u001b[0;31mNameError\u001b[0m: name 'Du1' is not defined"
     ]
    }
   ],
   "source": [
    "Du = Du1 + Du2 + Dbu\n",
    "Dx = Dx1 + Dx2 + Dbx\n",
    "Dy = Dy1 + Dy2 + Dby\n",
    "from sympy.abc import phi\n",
    "phi1 = sp.symbols('\\phi_1')\n",
    "phi2 = sp.symbols('\\phi_2')\n",
    "theta1 = sp.symbols('\\theta_1')\n",
    "theta2 = sp.symbols('\\theta_2')\n",
    "\n",
    "\n",
    "\n",
    "Learnperturb_u1 = (r1 + Dr1)*(K*(u1 + Dp1 + D*(phi1 + Dp1*theta1)) + pc)\n",
    "Learnperturb_u2 = Learnperturb_u1.subs([(r1,r2),(Dr1,Dr2),(u1,u2),(Dp1,Dp2), (phi1,phi2), (theta1,theta2)])\n",
    "Learnperturb_x1 = Learnperturb_u1.subs([(K,K+dk),(pc,pc+dpc),(Dr1,0),(Dp1,0)])\n",
    "Learnperturb_x2 = Learnperturb_x1.subs([(r1,r2),(u1,u2),(phi1,phi2)])\n",
    "Learnperturb_y1 = Learnperturb_u1.subs([(D,D+dD),(Dr1,0),(Dp1,0)])\n",
    "Learnperturb_y2 = Learnperturb_y1.subs([(r1,r2),(u1,u2), (phi1,phi2)])\n",
    "\n",
    "\n",
    "WplusdW = (1+Du)*(1 + pc + Learnperturb_u1 + Learnperturb_u2) + Dx*(1+pc+ dpc + Learnperturb_x1 + Learnperturb_x2) + Dy*(1+pc+Learnperturb_y1 + Learnperturb_y2)\n",
    "WplusdW = WplusdW.subs([(Dp1,Du1+Dx1 + Dy1),(Dp2, Du2+Dx2+Dy2)])"
   ]
  },
  {
   "cell_type": "code",
   "execution_count": 5,
   "metadata": {},
   "outputs": [
    {
     "ename": "NameError",
     "evalue": "name 'WplusdW' is not defined",
     "output_type": "error",
     "traceback": [
      "\u001b[0;31m---------------------------------------------------------------------------\u001b[0m",
      "\u001b[0;31mNameError\u001b[0m                                 Traceback (most recent call last)",
      "\u001b[0;32m<ipython-input-5-8d9c57c4b5ef>\u001b[0m in \u001b[0;36m<module>\u001b[0;34m\u001b[0m\n\u001b[0;32m----> 1\u001b[0;31m \u001b[0mWplusdW\u001b[0m \u001b[0;34m=\u001b[0m \u001b[0mexpand\u001b[0m\u001b[0;34m(\u001b[0m\u001b[0mWplusdW\u001b[0m\u001b[0;34m)\u001b[0m\u001b[0;34m\u001b[0m\u001b[0;34m\u001b[0m\u001b[0m\n\u001b[0m\u001b[1;32m      2\u001b[0m \u001b[0mp\u001b[0m \u001b[0;34m=\u001b[0m \u001b[0mPoly\u001b[0m\u001b[0;34m(\u001b[0m\u001b[0mWplusdW\u001b[0m\u001b[0;34m,\u001b[0m\u001b[0mDu1\u001b[0m\u001b[0;34m,\u001b[0m\u001b[0mDu2\u001b[0m\u001b[0;34m,\u001b[0m\u001b[0mDbu\u001b[0m\u001b[0;34m,\u001b[0m\u001b[0mDx1\u001b[0m\u001b[0;34m,\u001b[0m\u001b[0mDx2\u001b[0m\u001b[0;34m,\u001b[0m\u001b[0mDbx\u001b[0m\u001b[0;34m,\u001b[0m\u001b[0mDy1\u001b[0m\u001b[0;34m,\u001b[0m\u001b[0mDy2\u001b[0m\u001b[0;34m,\u001b[0m\u001b[0mDby\u001b[0m\u001b[0;34m,\u001b[0m\u001b[0mDr1\u001b[0m\u001b[0;34m,\u001b[0m\u001b[0mDr2\u001b[0m\u001b[0;34m)\u001b[0m\u001b[0;34m\u001b[0m\u001b[0;34m\u001b[0m\u001b[0m\n",
      "\u001b[0;31mNameError\u001b[0m: name 'WplusdW' is not defined"
     ]
    }
   ],
   "source": [
    "WplusdW = expand(WplusdW)\n",
    "p = Poly(WplusdW,Du1,Du2,Dbu,Dx1,Dx2,Dbx,Dy1,Dy2,Dby,Dr1,Dr2)"
   ]
  },
  {
   "cell_type": "markdown",
   "metadata": {},
   "source": [
    "# J star"
   ]
  },
  {
   "cell_type": "code",
   "execution_count": 4,
   "metadata": {},
   "outputs": [],
   "source": [
    "def Make_Jstar(hw,hu1,hu2,hr1,hr2,K,D):\n",
    "    theta_fun1 = 6*hu1*(1-hu1) -1\n",
    "    theta_fun2 = 6*hu2*(1-hu2) -1\n",
    "    U1 = K*(1 + D*theta_fun1)\n",
    "    U2 = K*(1+D*theta_fun2)\n",
    "    A1 = hw*hu1/(1+hr1)\n",
    "    A2 = hw*hu2/(1 + hr2)\n",
    "    \n",
    "    row1 = [U1*(1 + hr1 - hu1*hr1), -hu1*hr2*U2, A1*(1-hu1), -hu1*A2]\n",
    "    row1 = [item/hw for item in row1]\n",
    "    row2 = [-hu2*hr1*U1, U2*(1 + hr2-hu2*hr2), -hu2*A1, A2*(1-hu2)]\n",
    "    row2 = [item/hw for item in row2]\n",
    "    row3 = [-beta*hr1/(1+hr1),0,1/(1+hr1),0]\n",
    "    row4 = [0,-beta*hr2/(1+hr2),0,1/(1+hr2)]\n",
    "    Jstar = Matrix([row1,row2,row3,row4])\n",
    "    return(Jstar)\n",
    "\n",
    "def Make_Jstar_np(hw,hu1,hu2,hr1,hr2,K,D,beta):\n",
    "    theta_fun1 = 6*hu1*(1-hu1) -1\n",
    "    theta_fun2 = 6*hu2*(1-hu2) -1\n",
    "    U1 = K*(1 + D*theta_fun1)\n",
    "    U2 = K*(1+D*theta_fun2)\n",
    "    A1 = hw*hu1/(1+hr1)\n",
    "    A2 = hw*hu2/(1 + hr2)\n",
    "    \n",
    "    row1 = [U1*(1 + hr1 - hu1*hr1), -hu1*hr2*U2, A1*(1-hu1), -hu1*A2]\n",
    "    row1 = [item/hw for item in row1]\n",
    "    row2 = [-hu2*hr1*U1, U2*(1 + hr2-hu2*hr2), -hu2*A1, A2*(1-hu2)]\n",
    "    row2 = [item/hw for item in row2]\n",
    "    row3 = [-beta*hr1/(1+hr1),0,1/(1+hr1),0]\n",
    "    row4 = [0,-beta*hr2/(1+hr2),0,1/(1+hr2)]\n",
    "    Jstar = np.array([row1,row2,row3,row4])\n",
    "    return(Jstar)\n",
    "\n",
    "def get_u1_K0(pc,beta):\n",
    "    if pc==0:\n",
    "        hu1 = 0\n",
    "        return(hu1)\n",
    "    if beta == 0:\n",
    "        hu1 = 2*pc/(1+3*pc)\n",
    "        return(hu1)\n",
    "    if (pc>0) & (beta > 0):\n",
    "        hu1 = ((1 + 3*pc + pc*beta) - np.sqrt((1 + 3*pc + pc*beta)**2 -16*pc**2*beta))/(4*pc*beta)\n",
    "    return(hu1)\n",
    "def get_leading_Jstar_eval_K0D0(pc,beta):\n",
    "    hu1 = get_u1_K0(pc,beta)\n",
    "    hr1 = 1 - beta*hu1\n",
    "    hw = 1 + pc *2*pc*hr1\n",
    "    Jstar = Make_Jstar_np(hw,hu1,hu1,hr1,hr1,0,0,beta)\n",
    "    evals = linalg.eigvals(Jstar)\n",
    "    evals_mag = abs(evals)\n",
    "    lead_eval = max(evals_mag)\n",
    "    return(lead_eval)"
   ]
  },
  {
   "cell_type": "markdown",
   "metadata": {},
   "source": [
    "# K = 0, small delta_d approximation"
   ]
  },
  {
   "cell_type": "code",
   "execution_count": 11,
   "metadata": {},
   "outputs": [],
   "source": [
    "# test internal stability\n",
    "\n",
    "hu1 = u1\n",
    "hu2 = hu1\n",
    "hr1 = r1\n",
    "hr2 = hr1\n",
    "Kval = 0\n",
    "Dval = 0\n",
    "hw = 1 + pc *2*pc*hr1\n",
    "Jstar = Make_Jstar(hw,hu1,hu2,hr1,hr2,Kval,Dval)"
   ]
  },
  {
   "cell_type": "code",
   "execution_count": 39,
   "metadata": {},
   "outputs": [
    {
     "data": {
      "text/latex": [
       "$\\displaystyle \\left[\\begin{matrix}0 & 0 & \\frac{\\hat{u_1} \\left(1 - \\hat{u_1}\\right)}{\\hat{r_1} + 1} & - \\frac{\\hat{u_1}^{2}}{\\hat{r_1} + 1}\\\\0 & 0 & - \\frac{\\hat{u_1}^{2}}{\\hat{r_1} + 1} & \\frac{\\hat{u_1} \\left(1 - \\hat{u_1}\\right)}{\\hat{r_1} + 1}\\\\- \\frac{\\hat{r_1} \\beta}{\\hat{r_1} + 1} & 0 & \\frac{1}{\\hat{r_1} + 1} & 0\\\\0 & - \\frac{\\hat{r_1} \\beta}{\\hat{r_1} + 1} & 0 & \\frac{1}{\\hat{r_1} + 1}\\end{matrix}\\right]$"
      ],
      "text/plain": [
       "Matrix([\n",
       "[                              0,                               0, \\hat{u_1}*(1 - \\hat{u_1})/(\\hat{r_1} + 1),             -\\hat{u_1}**2/(\\hat{r_1} + 1)],\n",
       "[                              0,                               0,             -\\hat{u_1}**2/(\\hat{r_1} + 1), \\hat{u_1}*(1 - \\hat{u_1})/(\\hat{r_1} + 1)],\n",
       "[-\\hat{r_1}*beta/(\\hat{r_1} + 1),                               0,                         1/(\\hat{r_1} + 1),                                         0],\n",
       "[                              0, -\\hat{r_1}*beta/(\\hat{r_1} + 1),                                         0,                         1/(\\hat{r_1} + 1)]])"
      ]
     },
     "metadata": {},
     "output_type": "display_data"
    },
    {
     "data": {
      "text/latex": [
       "$\\displaystyle - \\frac{\\sqrt{- 4 \\hat{r_1} \\hat{u_1} \\beta + 1} - 1}{2 \\hat{r_1} + 2}$"
      ],
      "text/plain": [
       "-(sqrt(-4*\\hat{r_1}*\\hat{u_1}*beta + 1) - 1)/(2*\\hat{r_1} + 2)"
      ]
     },
     "metadata": {},
     "output_type": "display_data"
    },
    {
     "data": {
      "text/latex": [
       "$\\displaystyle \\frac{\\sqrt{- 4 \\hat{r_1} \\hat{u_1} \\beta + 1} + 1}{2 \\hat{r_1} + 2}$"
      ],
      "text/plain": [
       "(sqrt(-4*\\hat{r_1}*\\hat{u_1}*beta + 1) + 1)/(2*\\hat{r_1} + 2)"
      ]
     },
     "metadata": {},
     "output_type": "display_data"
    },
    {
     "data": {
      "text/latex": [
       "$\\displaystyle - \\frac{\\sqrt{8 \\hat{r_1} \\hat{u_1}^{2} \\beta - 4 \\hat{r_1} \\hat{u_1} \\beta + 1} - 1}{2 \\hat{r_1} + 2}$"
      ],
      "text/plain": [
       "-(sqrt(8*\\hat{r_1}*\\hat{u_1}**2*beta - 4*\\hat{r_1}*\\hat{u_1}*beta + 1) - 1)/(2*\\hat{r_1} + 2)"
      ]
     },
     "metadata": {},
     "output_type": "display_data"
    },
    {
     "data": {
      "text/latex": [
       "$\\displaystyle \\frac{\\sqrt{8 \\hat{r_1} \\hat{u_1}^{2} \\beta - 4 \\hat{r_1} \\hat{u_1} \\beta + 1} + 1}{2 \\hat{r_1} + 2}$"
      ],
      "text/plain": [
       "(sqrt(8*\\hat{r_1}*\\hat{u_1}**2*beta - 4*\\hat{r_1}*\\hat{u_1}*beta + 1) + 1)/(2*\\hat{r_1} + 2)"
      ]
     },
     "metadata": {},
     "output_type": "display_data"
    }
   ],
   "source": [
    "display(Jstar)\n",
    "charpoly = Jstar.charpoly(lamda).as_expr()\n",
    "solns = solve(charpoly,lamda)\n",
    "for sol in solns:\n",
    "    display(sol)"
   ]
  },
  {
   "cell_type": "code",
   "execution_count": 19,
   "metadata": {},
   "outputs": [],
   "source": [
    "u1_k0 = ((1 + 3*pc + pc*beta) - sqrt((1 + 3*pc + pc*beta)**2 -16*pc**2*beta))/(4*pc*beta)\n",
    "solns = [sol.subs([(r1,1-beta*u1)]) for sol in solns]\n",
    "solns = [sol.subs([(u1,u1_k0)]) for sol in solns]"
   ]
  },
  {
   "cell_type": "code",
   "execution_count": 40,
   "metadata": {},
   "outputs": [],
   "source": [
    "charpoly = charpoly.subs([(r1,1-beta*u1)])\n",
    "charpoly = factor(charpoly)"
   ]
  },
  {
   "cell_type": "code",
   "execution_count": 45,
   "metadata": {},
   "outputs": [
    {
     "data": {
      "text/latex": [
       "$\\displaystyle \\frac{\\left(\\hat{u_1} \\beta \\lambda + \\hat{u_1} \\beta - 2 \\lambda\\right) \\left(\\hat{u_1} \\beta \\lambda - \\hat{u_1} \\beta - 2 \\lambda + 1\\right) \\left(2 \\hat{u_1}^{3} \\beta^{2} + \\hat{u_1}^{2} \\beta^{2} \\lambda^{2} - \\hat{u_1}^{2} \\beta^{2} - 2 \\hat{u_1}^{2} \\beta - 4 \\hat{u_1} \\beta \\lambda^{2} + \\hat{u_1} \\beta \\lambda + \\hat{u_1} \\beta + 4 \\lambda^{2} - 2 \\lambda\\right)}{\\left(\\hat{u_1} \\beta - 2\\right)^{4}}$"
      ],
      "text/plain": [
       "(\\hat{u_1}*beta*lamda + \\hat{u_1}*beta - 2*lamda)*(\\hat{u_1}*beta*lamda - \\hat{u_1}*beta - 2*lamda + 1)*(2*\\hat{u_1}**3*beta**2 + \\hat{u_1}**2*beta**2*lamda**2 - \\hat{u_1}**2*beta**2 - 2*\\hat{u_1}**2*beta - 4*\\hat{u_1}*beta*lamda**2 + \\hat{u_1}*beta*lamda + \\hat{u_1}*beta + 4*lamda**2 - 2*lamda)/(\\hat{u_1}*beta - 2)**4"
      ]
     },
     "execution_count": 45,
     "metadata": {},
     "output_type": "execute_result"
    }
   ],
   "source": [
    "charpoly"
   ]
  },
  {
   "cell_type": "code",
   "execution_count": 53,
   "metadata": {},
   "outputs": [
    {
     "data": {
      "text/latex": [
       "$\\displaystyle 0.25 \\beta^{2} - 1.5 \\beta + 2$"
      ],
      "text/plain": [
       "0.25*beta**2 - 1.5*beta + 2"
      ]
     },
     "execution_count": 53,
     "metadata": {},
     "output_type": "execute_result"
    }
   ],
   "source": [
    "charpoly_third = 2*u1**3*beta**2 + u1**2*beta**2*lamda**2 - u1**2*beta**2 - 2*u1**2*beta \n",
    "charpoly_third = charpoly_third - 4*u1*beta*lamda**2+u1*beta*lamda + u1*beta + 4*lamda**2 - 2*lamda\n",
    "charpoly_third.collect(lamda)\n",
    "charpoly_third.subs([(lamda,1),(u1,1/2)])"
   ]
  },
  {
   "cell_type": "code",
   "execution_count": 52,
   "metadata": {},
   "outputs": [
    {
     "data": {
      "text/latex": [
       "$\\displaystyle 2 \\hat{u_1}^{3} \\beta^{2} - 2 \\hat{u_1}^{2} \\beta - 2 \\hat{u_1} \\beta + 2$"
      ],
      "text/plain": [
       "2*\\hat{u_1}**3*beta**2 - 2*\\hat{u_1}**2*beta - 2*\\hat{u_1}*beta + 2"
      ]
     },
     "execution_count": 52,
     "metadata": {},
     "output_type": "execute_result"
    }
   ],
   "source": [
    "charpoly_third.subs([(lamda,1)]).collect(u1)"
   ]
  },
  {
   "cell_type": "code",
   "execution_count": 50,
   "metadata": {},
   "outputs": [
    {
     "data": {
      "text/latex": [
       "$\\displaystyle \\hat{u_1} \\beta \\left(2 \\hat{u_1} - 1\\right) \\left(\\hat{u_1} \\beta - 1\\right)$"
      ],
      "text/plain": [
       "\\hat{u_1}*beta*(2*\\hat{u_1} - 1)*(\\hat{u_1}*beta - 1)"
      ]
     },
     "execution_count": 50,
     "metadata": {},
     "output_type": "execute_result"
    }
   ],
   "source": [
    "factor(2*u1**3*beta**2 - u1**2*beta**2 - 2*u1**2*beta+u1*beta)"
   ]
  },
  {
   "cell_type": "code",
   "execution_count": 16,
   "metadata": {},
   "outputs": [],
   "source": [
    "# plot the evals\n",
    "pcvec = np.arange(0.0,1,0.02)\n",
    "betavec = np.arange(0.0,1,0.02)\n",
    "PC,BETA = np.meshgrid(pcvec,betavec)\n",
    "pcflat = np.ndarray.flatten(PC)\n",
    "betaflat = np.ndarray.flatten(BETA)\n",
    "\n",
    "finalshape = np.shape(PC)\n",
    "eigvec = [get_leading_Jstar_eval_K0D0(pc,beta) for pc,beta in zip(pcflat,betaflat)]\n",
    "eigmat = np.reshape(eigvec,finalshape)"
   ]
  },
  {
   "cell_type": "code",
   "execution_count": 17,
   "metadata": {},
   "outputs": [],
   "source": [
    "eigmat_is_stable = eigmat < 1"
   ]
  },
  {
   "cell_type": "code",
   "execution_count": 18,
   "metadata": {},
   "outputs": [
    {
     "data": {
      "text/plain": [
       "<matplotlib.contour.QuadContourSet at 0x1229461d0>"
      ]
     },
     "execution_count": 18,
     "metadata": {},
     "output_type": "execute_result"
    },
    {
     "data": {
      "image/png": "[encoded data removed]",
      "text/plain": [
       "<Figure size 432x288 with 1 Axes>"
      ]
     },
     "metadata": {
      "needs_background": "light"
     },
     "output_type": "display_data"
    }
   ],
   "source": [
    "plt.contourf(PC,BETA,eigmat_is_stable)"
   ]
  },
  {
   "cell_type": "code",
   "execution_count": 66,
   "metadata": {},
   "outputs": [],
   "source": [
    "u1_K0 = ((1+3*pc+pc*beta)-sqrt((1+3*pc+pc*beta)**2-16*pc**2*beta))/(4*pc*beta)\n"
   ]
  },
  {
   "cell_type": "code",
   "execution_count": 65,
   "metadata": {},
   "outputs": [
    {
     "ename": "NameError",
     "evalue": "name 'u1_K0' is not defined",
     "output_type": "error",
     "traceback": [
      "\u001b[0;31m---------------------------------------------------------------------------\u001b[0m",
      "\u001b[0;31mNameError\u001b[0m                                 Traceback (most recent call last)",
      "\u001b[0;32m<ipython-input-65-e9a8c3a21ed1>\u001b[0m in \u001b[0;36m<module>\u001b[0;34m\u001b[0m\n\u001b[1;32m      1\u001b[0m \u001b[0mlower_lim_Kinvades\u001b[0m \u001b[0;34m=\u001b[0m \u001b[0;34m(\u001b[0m\u001b[0;36m1\u001b[0m\u001b[0;34m-\u001b[0m\u001b[0msqrt\u001b[0m\u001b[0;34m(\u001b[0m\u001b[0;36m1\u001b[0m\u001b[0;34m-\u001b[0m\u001b[0mbeta\u001b[0m\u001b[0;34m)\u001b[0m\u001b[0;34m)\u001b[0m\u001b[0;34m/\u001b[0m\u001b[0;34m(\u001b[0m\u001b[0;36m2\u001b[0m\u001b[0;34m*\u001b[0m\u001b[0mbeta\u001b[0m\u001b[0;34m)\u001b[0m\u001b[0;34m\u001b[0m\u001b[0;34m\u001b[0m\u001b[0m\n\u001b[1;32m      2\u001b[0m \u001b[0;34m\u001b[0m\u001b[0m\n\u001b[0;32m----> 3\u001b[0;31m \u001b[0mleft\u001b[0m \u001b[0;34m=\u001b[0m \u001b[0msimplify\u001b[0m\u001b[0;34m(\u001b[0m\u001b[0mu1_K0\u001b[0m \u001b[0;34m-\u001b[0m \u001b[0mlower_lim_Kinvades\u001b[0m\u001b[0;34m)\u001b[0m\u001b[0;34m\u001b[0m\u001b[0;34m\u001b[0m\u001b[0m\n\u001b[0m\u001b[1;32m      4\u001b[0m \u001b[0;34m\u001b[0m\u001b[0m\n\u001b[1;32m      5\u001b[0m \u001b[0mnewLeft\u001b[0m\u001b[0;34m.\u001b[0m\u001b[0msubs\u001b[0m\u001b[0;34m(\u001b[0m\u001b[0;34m[\u001b[0m\u001b[0;34m(\u001b[0m\u001b[0mpc\u001b[0m\u001b[0;34m,\u001b[0m\u001b[0;36m0.1\u001b[0m\u001b[0;34m)\u001b[0m\u001b[0;34m,\u001b[0m\u001b[0;34m(\u001b[0m\u001b[0mbeta\u001b[0m\u001b[0;34m,\u001b[0m\u001b[0;36m0.5\u001b[0m\u001b[0;34m)\u001b[0m\u001b[0;34m]\u001b[0m\u001b[0;34m)\u001b[0m\u001b[0;34m\u001b[0m\u001b[0;34m\u001b[0m\u001b[0m\n",
      "\u001b[0;31mNameError\u001b[0m: name 'u1_K0' is not defined"
     ]
    }
   ],
   "source": [
    "lower_lim_Kinvades = (1-sqrt(1-beta))/(2*beta)\n",
    "\n",
    "left = simplify(u1_K0 - lower_lim_Kinvades)\n",
    "\n",
    "newLeft.subs([(pc,0.1),(beta,0.5)])"
   ]
  },
  {
   "cell_type": "code",
   "execution_count": 10,
   "metadata": {},
   "outputs": [],
   "source": [
    "pcvec = np.arange(0.01,1,0.0001)\n",
    "betavec = np.arange(0.01,1,0.0001)\n",
    "PC, BETA = np.array(np.meshgrid(pcvec,betavec), dtype = float)\n",
    "def SignCsK0D0(beta,u1):\n",
    "    determinesSign = -1 + 4*(1-beta*u1)*u1\n",
    "    to_return = np.array(determinesSign>0, dtype = int)\n",
    "    return(to_return)\n",
    "def fun_u1_K0(pc,beta):\n",
    "    u1hat = ((1+3*pc+pc*beta)-np.sqrt((1+3*pc+pc*beta)**2-16*pc**2*beta))/(4*pc*beta)\n",
    "    return(u1hat)\n",
    "\n",
    "U1 = fun_u1_K0(PC,BETA)\n",
    "Xinvades = SignCsK0D0(BETA,U1)\n"
   ]
  },
  {
   "cell_type": "code",
   "execution_count": 36,
   "metadata": {},
   "outputs": [
    {
     "data": {
      "image/png": "[encoded data removed]",
      "text/plain": [
       "<Figure size 1152x432 with 2 Axes>"
      ]
     },
     "metadata": {
      "needs_background": "light"
     },
     "output_type": "display_data"
    }
   ],
   "source": [
    " #Define a class that forces representation of float to have only one decimal point if there's a trailing z\n",
    "\n",
    "fig, (ax1,ax2) = plt.subplots(1,2,figsize = (16,6))\n",
    "\n",
    "CS = ax1.contour(PC,BETA,U1, linewidths = 2)\n",
    "#ax1.clabel(CS,CS.levels,fontsize=12, rightside_up = True, inline_spacing=3)\n",
    "\n",
    "\n",
    "#fix the labels so they don't go off the axis\n",
    "\n",
    "xmin,xmax,ymin,ymax = ax1.axis()\n",
    "# middle of the figure:\n",
    "mid = ((xmin+xmax)/2, (ymin + ymax)/2)\n",
    "\n",
    "# find new position sof labels that are cose to center\n",
    "label_pos = []\n",
    "for line in CS.collections:\n",
    "    for path in line.get_paths():\n",
    "        vert = path.vertices\n",
    "        \n",
    "        #find closest point\n",
    "        dist = np.linalg.norm(vert-mid,ord=2,axis=1)\n",
    "        min_ind = np.argmin(dist)\n",
    "        label_pos.append(vert[min_ind,:])\n",
    "        \n",
    "#draw labels\n",
    "ax1.clabel(CS,inline=True,inline_spacing=3,colors = 'k', fontsize = 20, rightside_up=True, manual = label_pos)\n",
    "CF = ax2.contourf(PC,BETA,Xinvades, levels = [0.5,1.5])\n",
    "\n",
    "ax1.set_xlabel('$\\pi_c$', fontsize = 22)\n",
    "ax2.set_xlabel('$\\pi_c$', fontsize = 22)\n",
    "ax1.set_ylabel('$\\\\beta$', fontsize = 22)\n",
    "#both plots have teh same axes so don't need labels of right plot's y-axis\n",
    "ax2.axes.yaxis.set_ticklabels([])\n",
    "ax1.tick_params(axis='both', which='major', labelsize=14)\n",
    "ax2.tick_params(axis='both', which='major', labelsize=14)\n",
    "\n",
    "fig.savefig('Figures/xinvadesK0D0.png')"
   ]
  },
  {
   "cell_type": "markdown",
   "metadata": {},
   "source": [
    "# Case K > 0, D = 0"
   ]
  },
  {
   "cell_type": "markdown",
   "metadata": {},
   "source": [
    "## Case $u_1 = u_2$"
   ]
  },
  {
   "cell_type": "code",
   "execution_count": 51,
   "metadata": {},
   "outputs": [
    {
     "data": {
      "text/latex": [
       "$\\displaystyle - \\frac{- \\frac{3 \\left(2 K - \\pi_C \\beta - 3 \\pi_C - 1\\right)}{2 K \\beta} + \\frac{\\left(- K \\beta - 2 K + 3 \\pi_C \\beta\\right)^{2}}{4 K^{2} \\beta^{2}}}{3 \\sqrt[3]{\\frac{\\sqrt{- 4 \\left(- \\frac{3 \\left(2 K - \\pi_C \\beta - 3 \\pi_C - 1\\right)}{2 K \\beta} + \\frac{\\left(- K \\beta - 2 K + 3 \\pi_C \\beta\\right)^{2}}{4 K^{2} \\beta^{2}}\\right)^{3} + \\left(\\frac{27 \\pi_C}{K \\beta} - \\frac{9 \\left(- K \\beta - 2 K + 3 \\pi_C \\beta\\right) \\left(2 K - \\pi_C \\beta - 3 \\pi_C - 1\\right)}{4 K^{2} \\beta^{2}} + \\frac{\\left(- K \\beta - 2 K + 3 \\pi_C \\beta\\right)^{3}}{4 K^{3} \\beta^{3}}\\right)^{2}}}{2} + \\frac{27 \\pi_C}{2 K \\beta} - \\frac{9 \\left(- K \\beta - 2 K + 3 \\pi_C \\beta\\right) \\left(2 K - \\pi_C \\beta - 3 \\pi_C - 1\\right)}{8 K^{2} \\beta^{2}} + \\frac{\\left(- K \\beta - 2 K + 3 \\pi_C \\beta\\right)^{3}}{8 K^{3} \\beta^{3}}}} - \\frac{\\sqrt[3]{\\frac{\\sqrt{- 4 \\left(- \\frac{3 \\left(2 K - \\pi_C \\beta - 3 \\pi_C - 1\\right)}{2 K \\beta} + \\frac{\\left(- K \\beta - 2 K + 3 \\pi_C \\beta\\right)^{2}}{4 K^{2} \\beta^{2}}\\right)^{3} + \\left(\\frac{27 \\pi_C}{K \\beta} - \\frac{9 \\left(- K \\beta - 2 K + 3 \\pi_C \\beta\\right) \\left(2 K - \\pi_C \\beta - 3 \\pi_C - 1\\right)}{4 K^{2} \\beta^{2}} + \\frac{\\left(- K \\beta - 2 K + 3 \\pi_C \\beta\\right)^{3}}{4 K^{3} \\beta^{3}}\\right)^{2}}}{2} + \\frac{27 \\pi_C}{2 K \\beta} - \\frac{9 \\left(- K \\beta - 2 K + 3 \\pi_C \\beta\\right) \\left(2 K - \\pi_C \\beta - 3 \\pi_C - 1\\right)}{8 K^{2} \\beta^{2}} + \\frac{\\left(- K \\beta - 2 K + 3 \\pi_C \\beta\\right)^{3}}{8 K^{3} \\beta^{3}}}}{3} - \\frac{- K \\beta - 2 K + 3 \\pi_C \\beta}{6 K \\beta}$"
      ],
      "text/plain": [
       "-(-3*(2*K - \\pi_C*beta - 3*\\pi_C - 1)/(2*K*beta) + (-K*beta - 2*K + 3*\\pi_C*beta)**2/(4*K**2*beta**2))/(3*(sqrt(-4*(-3*(2*K - \\pi_C*beta - 3*\\pi_C - 1)/(2*K*beta) + (-K*beta - 2*K + 3*\\pi_C*beta)**2/(4*K**2*beta**2))**3 + (27*\\pi_C/(K*beta) - 9*(-K*beta - 2*K + 3*\\pi_C*beta)*(2*K - \\pi_C*beta - 3*\\pi_C - 1)/(4*K**2*beta**2) + (-K*beta - 2*K + 3*\\pi_C*beta)**3/(4*K**3*beta**3))**2)/2 + 27*\\pi_C/(2*K*beta) - 9*(-K*beta - 2*K + 3*\\pi_C*beta)*(2*K - \\pi_C*beta - 3*\\pi_C - 1)/(8*K**2*beta**2) + (-K*beta - 2*K + 3*\\pi_C*beta)**3/(8*K**3*beta**3))**(1/3)) - (sqrt(-4*(-3*(2*K - \\pi_C*beta - 3*\\pi_C - 1)/(2*K*beta) + (-K*beta - 2*K + 3*\\pi_C*beta)**2/(4*K**2*beta**2))**3 + (27*\\pi_C/(K*beta) - 9*(-K*beta - 2*K + 3*\\pi_C*beta)*(2*K - \\pi_C*beta - 3*\\pi_C - 1)/(4*K**2*beta**2) + (-K*beta - 2*K + 3*\\pi_C*beta)**3/(4*K**3*beta**3))**2)/2 + 27*\\pi_C/(2*K*beta) - 9*(-K*beta - 2*K + 3*\\pi_C*beta)*(2*K - \\pi_C*beta - 3*\\pi_C - 1)/(8*K**2*beta**2) + (-K*beta - 2*K + 3*\\pi_C*beta)**3/(8*K**3*beta**3))**(1/3)/3 - (-K*beta - 2*K + 3*\\pi_C*beta)/(6*K*beta)"
      ]
     },
     "execution_count": 51,
     "metadata": {},
     "output_type": "execute_result"
    }
   ],
   "source": [
    "Cubic = u1**3*(-2*beta*K)+u1**2*(2*K + K*beta - 3*beta*pc) + u1*(1+3*pc -2*K + beta*pc) - 2*pc\n",
    "solns = solve(Cubic,u1)\n",
    "solns[0]\n",
    "# need to solve this with fsolve\n",
    "\n",
    "def CubicD0(u1, params):\n",
    "    [beta,K,pc] = params\n",
    "    Cubic = u1**3*(-2*beta*K)+u1**2*(2*K + K*beta - 3*beta*pc) + u1*(1+3*pc -2*K + beta*pc) - 2*pc\n",
    "    return(Cubic)\n",
    "\n"
   ]
  },
  {
   "cell_type": "markdown",
   "metadata": {},
   "source": [
    "## Subcase: $u_i = 0$, $u_1 \\neq u_2$"
   ]
  },
  {
   "cell_type": "code",
   "execution_count": 5,
   "metadata": {},
   "outputs": [
    {
     "data": {
      "text/latex": [
       "$\\displaystyle \\left[\\begin{matrix}\\frac{2 K}{K \\hat{u_2} \\left(- \\hat{u_2} \\beta + 1\\right) + 1} & 0 & 0 & 0\\\\- \\frac{K \\hat{u_2}}{K \\hat{u_2} \\left(- \\hat{u_2} \\beta + 1\\right) + 1} & \\frac{K \\left(- \\hat{u_2} \\beta - \\hat{u_2} \\left(- \\hat{u_2} \\beta + 1\\right) + 2\\right)}{K \\hat{u_2} \\left(- \\hat{u_2} \\beta + 1\\right) + 1} & 0 & \\frac{\\hat{u_2} \\left(1 - \\hat{u_2}\\right)}{- \\hat{u_2} \\beta + 2}\\\\- \\frac{\\beta}{2} & 0 & \\frac{1}{2} & 0\\\\0 & - \\frac{\\beta \\left(- \\hat{u_2} \\beta + 1\\right)}{- \\hat{u_2} \\beta + 2} & 0 & \\frac{1}{- \\hat{u_2} \\beta + 2}\\end{matrix}\\right]$"
      ],
      "text/plain": [
       "Matrix([\n",
       "[         2*K/(K*\\hat{u_2}*(-\\hat{u_2}*beta + 1) + 1),                                                                                                 0,   0,                                               0],\n",
       "[-K*\\hat{u_2}/(K*\\hat{u_2}*(-\\hat{u_2}*beta + 1) + 1), K*(-\\hat{u_2}*beta - \\hat{u_2}*(-\\hat{u_2}*beta + 1) + 2)/(K*\\hat{u_2}*(-\\hat{u_2}*beta + 1) + 1),   0, \\hat{u_2}*(1 - \\hat{u_2})/(-\\hat{u_2}*beta + 2)],\n",
       "[                                             -beta/2,                                                                                                 0, 1/2,                                               0],\n",
       "[                                                   0,                                                 -beta*(-\\hat{u_2}*beta + 1)/(-\\hat{u_2}*beta + 2),   0,                         1/(-\\hat{u_2}*beta + 2)]])"
      ]
     },
     "metadata": {},
     "output_type": "display_data"
    }
   ],
   "source": [
    "hr1 = Rational(1,1)\n",
    "hr2 = Rational(1,1) - beta*u2\n",
    "hu1 = 0\n",
    "hu2 = u2\n",
    "hw = Rational(1,1) + K*hr2*hu2\n",
    "Jstar = Make_Jstar(hw,hu1,hu2,hr1,hr2,K,0)\n",
    "display(Jstar)\n",
    "charpoly = Jstar.charpoly(lamda).as_expr()\n",
    "evals = solve(charpoly,lamda)\n"
   ]
  },
  {
   "cell_type": "code",
   "execution_count": 206,
   "metadata": {},
   "outputs": [
    {
     "name": "stdout",
     "output_type": "stream",
     "text": [
      "\\left[\\begin{matrix}\\frac{2 K}{K \\hat{u_2} \\left(- \\hat{u_2} \\beta + 1\\right) + 1} & 0 & 0 & 0\\\\- \\frac{K \\hat{u_2}}{K \\hat{u_2} \\left(- \\hat{u_2} \\beta + 1\\right) + 1} & \\frac{K \\left(- \\hat{u_2} \\beta - \\hat{u_2} \\left(- \\hat{u_2} \\beta + 1\\right) + 2\\right)}{K \\hat{u_2} \\left(- \\hat{u_2} \\beta + 1\\right) + 1} & 0 & \\frac{\\hat{u_2} \\left(1 - \\hat{u_2}\\right)}{- \\hat{u_2} \\beta + 2}\\\\- \\frac{\\beta}{2} & 0 & \\frac{1}{2} & 0\\\\0 & - \\frac{\\beta \\left(- \\hat{u_2} \\beta + 1\\right)}{- \\hat{u_2} \\beta + 2} & 0 & \\frac{1}{- \\hat{u_2} \\beta + 2}\\end{matrix}\\right]\n"
     ]
    }
   ],
   "source": [
    "print(latex(Jstar))"
   ]
  },
  {
   "cell_type": "code",
   "execution_count": 203,
   "metadata": {},
   "outputs": [
    {
     "data": {
      "text/latex": [
       "$\\displaystyle \\frac{1}{2}$"
      ],
      "text/plain": [
       "1/2"
      ]
     },
     "metadata": {},
     "output_type": "display_data"
    },
    {
     "data": {
      "text/latex": [
       "$\\displaystyle - \\frac{2 K}{K \\hat{u_2}^{2} \\beta - K \\hat{u_2} - 1}$"
      ],
      "text/plain": [
       "-2*K/(K*\\hat{u_2}**2*beta - K*\\hat{u_2} - 1)"
      ]
     },
     "metadata": {},
     "output_type": "display_data"
    },
    {
     "data": {
      "text/latex": [
       "$\\displaystyle - \\frac{K \\hat{u_2}^{3} \\beta^{2} - K \\hat{u_2}^{2} \\beta^{2} - 2 K \\hat{u_2}^{2} \\beta + 4 K \\hat{u_2} \\beta + K \\hat{u_2} - 4 K - \\sqrt{- 4 K^{2} \\hat{u_2}^{7} \\beta^{4} + 5 K^{2} \\hat{u_2}^{6} \\beta^{4} + 12 K^{2} \\hat{u_2}^{6} \\beta^{3} - 2 K^{2} \\hat{u_2}^{5} \\beta^{4} - 20 K^{2} \\hat{u_2}^{5} \\beta^{3} - 12 K^{2} \\hat{u_2}^{5} \\beta^{2} + K^{2} \\hat{u_2}^{4} \\beta^{4} + 16 K^{2} \\hat{u_2}^{4} \\beta^{3} + 34 K^{2} \\hat{u_2}^{4} \\beta^{2} + 4 K^{2} \\hat{u_2}^{4} \\beta - 8 K^{2} \\hat{u_2}^{3} \\beta^{3} - 46 K^{2} \\hat{u_2}^{3} \\beta^{2} - 28 K^{2} \\hat{u_2}^{3} \\beta + 24 K^{2} \\hat{u_2}^{2} \\beta^{2} + 56 K^{2} \\hat{u_2}^{2} \\beta + 9 K^{2} \\hat{u_2}^{2} - 32 K^{2} \\hat{u_2} \\beta - 24 K^{2} \\hat{u_2} + 16 K^{2} + 8 K \\hat{u_2}^{5} \\beta^{3} - 8 K \\hat{u_2}^{4} \\beta^{3} - 16 K \\hat{u_2}^{4} \\beta^{2} + 18 K \\hat{u_2}^{3} \\beta^{2} + 8 K \\hat{u_2}^{3} \\beta - 2 K \\hat{u_2}^{2} \\beta^{2} - 16 K \\hat{u_2}^{2} \\beta + 8 K \\hat{u_2} \\beta + 6 K \\hat{u_2} - 8 K - 4 \\hat{u_2}^{3} \\beta^{2} + 4 \\hat{u_2}^{2} \\beta^{2} + 4 \\hat{u_2}^{2} \\beta - 4 \\hat{u_2} \\beta + 1} - 1}{2 K \\hat{u_2}^{3} \\beta^{2} - 6 K \\hat{u_2}^{2} \\beta + 4 K \\hat{u_2} - 2 \\hat{u_2} \\beta + 4}$"
      ],
      "text/plain": [
       "-(K*\\hat{u_2}**3*beta**2 - K*\\hat{u_2}**2*beta**2 - 2*K*\\hat{u_2}**2*beta + 4*K*\\hat{u_2}*beta + K*\\hat{u_2} - 4*K - sqrt(-4*K**2*\\hat{u_2}**7*beta**4 + 5*K**2*\\hat{u_2}**6*beta**4 + 12*K**2*\\hat{u_2}**6*beta**3 - 2*K**2*\\hat{u_2}**5*beta**4 - 20*K**2*\\hat{u_2}**5*beta**3 - 12*K**2*\\hat{u_2}**5*beta**2 + K**2*\\hat{u_2}**4*beta**4 + 16*K**2*\\hat{u_2}**4*beta**3 + 34*K**2*\\hat{u_2}**4*beta**2 + 4*K**2*\\hat{u_2}**4*beta - 8*K**2*\\hat{u_2}**3*beta**3 - 46*K**2*\\hat{u_2}**3*beta**2 - 28*K**2*\\hat{u_2}**3*beta + 24*K**2*\\hat{u_2}**2*beta**2 + 56*K**2*\\hat{u_2}**2*beta + 9*K**2*\\hat{u_2}**2 - 32*K**2*\\hat{u_2}*beta - 24*K**2*\\hat{u_2} + 16*K**2 + 8*K*\\hat{u_2}**5*beta**3 - 8*K*\\hat{u_2}**4*beta**3 - 16*K*\\hat{u_2}**4*beta**2 + 18*K*\\hat{u_2}**3*beta**2 + 8*K*\\hat{u_2}**3*beta - 2*K*\\hat{u_2}**2*beta**2 - 16*K*\\hat{u_2}**2*beta + 8*K*\\hat{u_2}*beta + 6*K*\\hat{u_2} - 8*K - 4*\\hat{u_2}**3*beta**2 + 4*\\hat{u_2}**2*beta**2 + 4*\\hat{u_2}**2*beta - 4*\\hat{u_2}*beta + 1) - 1)/(2*K*\\hat{u_2}**3*beta**2 - 6*K*\\hat{u_2}**2*beta + 4*K*\\hat{u_2} - 2*\\hat{u_2}*beta + 4)"
      ]
     },
     "metadata": {},
     "output_type": "display_data"
    },
    {
     "data": {
      "text/latex": [
       "$\\displaystyle - \\frac{K \\hat{u_2}^{3} \\beta^{2} - K \\hat{u_2}^{2} \\beta^{2} - 2 K \\hat{u_2}^{2} \\beta + 4 K \\hat{u_2} \\beta + K \\hat{u_2} - 4 K + \\sqrt{- 4 K^{2} \\hat{u_2}^{7} \\beta^{4} + 5 K^{2} \\hat{u_2}^{6} \\beta^{4} + 12 K^{2} \\hat{u_2}^{6} \\beta^{3} - 2 K^{2} \\hat{u_2}^{5} \\beta^{4} - 20 K^{2} \\hat{u_2}^{5} \\beta^{3} - 12 K^{2} \\hat{u_2}^{5} \\beta^{2} + K^{2} \\hat{u_2}^{4} \\beta^{4} + 16 K^{2} \\hat{u_2}^{4} \\beta^{3} + 34 K^{2} \\hat{u_2}^{4} \\beta^{2} + 4 K^{2} \\hat{u_2}^{4} \\beta - 8 K^{2} \\hat{u_2}^{3} \\beta^{3} - 46 K^{2} \\hat{u_2}^{3} \\beta^{2} - 28 K^{2} \\hat{u_2}^{3} \\beta + 24 K^{2} \\hat{u_2}^{2} \\beta^{2} + 56 K^{2} \\hat{u_2}^{2} \\beta + 9 K^{2} \\hat{u_2}^{2} - 32 K^{2} \\hat{u_2} \\beta - 24 K^{2} \\hat{u_2} + 16 K^{2} + 8 K \\hat{u_2}^{5} \\beta^{3} - 8 K \\hat{u_2}^{4} \\beta^{3} - 16 K \\hat{u_2}^{4} \\beta^{2} + 18 K \\hat{u_2}^{3} \\beta^{2} + 8 K \\hat{u_2}^{3} \\beta - 2 K \\hat{u_2}^{2} \\beta^{2} - 16 K \\hat{u_2}^{2} \\beta + 8 K \\hat{u_2} \\beta + 6 K \\hat{u_2} - 8 K - 4 \\hat{u_2}^{3} \\beta^{2} + 4 \\hat{u_2}^{2} \\beta^{2} + 4 \\hat{u_2}^{2} \\beta - 4 \\hat{u_2} \\beta + 1} - 1}{2 K \\hat{u_2}^{3} \\beta^{2} - 6 K \\hat{u_2}^{2} \\beta + 4 K \\hat{u_2} - 2 \\hat{u_2} \\beta + 4}$"
      ],
      "text/plain": [
       "-(K*\\hat{u_2}**3*beta**2 - K*\\hat{u_2}**2*beta**2 - 2*K*\\hat{u_2}**2*beta + 4*K*\\hat{u_2}*beta + K*\\hat{u_2} - 4*K + sqrt(-4*K**2*\\hat{u_2}**7*beta**4 + 5*K**2*\\hat{u_2}**6*beta**4 + 12*K**2*\\hat{u_2}**6*beta**3 - 2*K**2*\\hat{u_2}**5*beta**4 - 20*K**2*\\hat{u_2}**5*beta**3 - 12*K**2*\\hat{u_2}**5*beta**2 + K**2*\\hat{u_2}**4*beta**4 + 16*K**2*\\hat{u_2}**4*beta**3 + 34*K**2*\\hat{u_2}**4*beta**2 + 4*K**2*\\hat{u_2}**4*beta - 8*K**2*\\hat{u_2}**3*beta**3 - 46*K**2*\\hat{u_2}**3*beta**2 - 28*K**2*\\hat{u_2}**3*beta + 24*K**2*\\hat{u_2}**2*beta**2 + 56*K**2*\\hat{u_2}**2*beta + 9*K**2*\\hat{u_2}**2 - 32*K**2*\\hat{u_2}*beta - 24*K**2*\\hat{u_2} + 16*K**2 + 8*K*\\hat{u_2}**5*beta**3 - 8*K*\\hat{u_2}**4*beta**3 - 16*K*\\hat{u_2}**4*beta**2 + 18*K*\\hat{u_2}**3*beta**2 + 8*K*\\hat{u_2}**3*beta - 2*K*\\hat{u_2}**2*beta**2 - 16*K*\\hat{u_2}**2*beta + 8*K*\\hat{u_2}*beta + 6*K*\\hat{u_2} - 8*K - 4*\\hat{u_2}**3*beta**2 + 4*\\hat{u_2}**2*beta**2 + 4*\\hat{u_2}**2*beta - 4*\\hat{u_2}*beta + 1) - 1)/(2*K*\\hat{u_2}**3*beta**2 - 6*K*\\hat{u_2}**2*beta + 4*K*\\hat{u_2} - 2*\\hat{u_2}*beta + 4)"
      ]
     },
     "metadata": {},
     "output_type": "display_data"
    }
   ],
   "source": [
    "for eval in evals:\n",
    "    display(eval)"
   ]
  },
  {
   "cell_type": "code",
   "execution_count": 212,
   "metadata": {},
   "outputs": [
    {
     "data": {
      "text/latex": [
       "$\\displaystyle 0$"
      ],
      "text/plain": [
       "0"
      ]
     },
     "metadata": {},
     "output_type": "display_data"
    },
    {
     "data": {
      "text/latex": [
       "$\\displaystyle \\frac{\\beta + 1}{2 \\beta} - \\frac{\\sqrt{K \\left(K \\beta^{2} - 6 K \\beta + K + 4 \\beta\\right)}}{2 K \\beta}$"
      ],
      "text/plain": [
       "(beta + 1)/(2*beta) - sqrt(K*(K*beta**2 - 6*K*beta + K + 4*beta))/(2*K*beta)"
      ]
     },
     "metadata": {},
     "output_type": "display_data"
    },
    {
     "data": {
      "text/latex": [
       "$\\displaystyle \\frac{\\beta + 1}{2 \\beta} + \\frac{\\sqrt{K \\left(K \\beta^{2} - 6 K \\beta + K + 4 \\beta\\right)}}{2 K \\beta}$"
      ],
      "text/plain": [
       "(beta + 1)/(2*beta) + sqrt(K*(K*beta**2 - 6*K*beta + K + 4*beta))/(2*K*beta)"
      ]
     },
     "metadata": {},
     "output_type": "display_data"
    }
   ],
   "source": [
    "expr = hw*hu2 - (1+hr2)*K*hu2\n",
    "solns = solve(expr,u2)\n",
    "for sol in solns:\n",
    "    display(sol)\n",
    "    \n",
    "hu2 = solns[1]\n",
    "evals = [simplify(eval.subs([(u2,hu2),(r2,1-beta*hu2)])) for eval in evals]"
   ]
  },
  {
   "cell_type": "code",
   "execution_count": 247,
   "metadata": {},
   "outputs": [],
   "source": [
    "Kvec = np.arange(0.5,1,0.02)\n",
    "betavec = np.arange(0.02,1,0.02)\n",
    "KK,BETA = np.meshgrid(Kvec,betavec)\n",
    "Kflat = np.ndarray.flatten(KK)\n",
    "betaflat = np.ndarray.flatten(BETA)\n",
    "\n",
    "finalshape = np.shape(KK)\n",
    "\n",
    "\n",
    "discrimvec = [K*(K*beta**2 -6*K*beta + K + 4*beta) for K,beta in zip(Kflat, betaflat)]\n",
    "discrimMat = np.reshape(discrimvec,finalshape)"
   ]
  },
  {
   "cell_type": "code",
   "execution_count": 248,
   "metadata": {},
   "outputs": [
    {
     "data": {
      "text/plain": [
       "<matplotlib.colorbar.Colorbar at 0x12f36d690>"
      ]
     },
     "execution_count": 248,
     "metadata": {},
     "output_type": "execute_result"
    },
    {
     "data": {
      "image/png": "[encoded data removed]",
      "text/plain": [
       "<Figure size 432x288 with 2 Axes>"
      ]
     },
     "metadata": {
      "needs_background": "light"
     },
     "output_type": "display_data"
    }
   ],
   "source": [
    "plt.contourf(KK,BETA,discrimMat)\n",
    "plt.colorbar()"
   ]
  },
  {
   "cell_type": "code",
   "execution_count": 249,
   "metadata": {},
   "outputs": [],
   "source": [
    "def get_u2_D0_u10(K,beta):\n",
    "    u2 = (beta + 1)/(2*beta) - (np.sqrt(K*(K*beta**2 - 6*K*beta + K +4*beta)))/(2*K*beta)\n",
    "    return(u2)\n",
    "def get_leading_Jstar_eval_D0_u10(K,beta):\n",
    "    hu2 = get_u2_D0_u10(K,beta)\n",
    "    hr2 = 1 - beta*hu2\n",
    "    hr1 = 1; hu1 = 0\n",
    "    hw = 1 + K*hr2*hu2\n",
    "    Jstar = Make_Jstar_np(hw,hu1,hu1,hr1,hr1,0,0,beta)\n",
    "    evals = linalg.eigvals(Jstar)\n",
    "    evals_mag = abs(evals)\n",
    "    lead_eval = max(evals_mag)\n",
    "    return(lead_eval)\n",
    "\n",
    "u2vec = [get_u2_D0_u10(K,beta) for K,beta in zip(Kflat, betaflat)]\n",
    "u2mat = np.reshape(u2vec,finalshape)\n",
    "#eigvec = [get_leading_Jstar_eval_D0_u10(K,beta) for K,beta in zip(Kflat,betaflat)]\n",
    "#eigmat = np.reshape(eigvec,finalshape)"
   ]
  },
  {
   "cell_type": "code",
   "execution_count": 245,
   "metadata": {},
   "outputs": [
    {
     "data": {
      "text/plain": [
       "0.9793899843052216"
      ]
     },
     "execution_count": 245,
     "metadata": {},
     "output_type": "execute_result"
    }
   ],
   "source": [
    "max(get_u2_D0_u10(Kflat,betaflat))"
   ]
  },
  {
   "cell_type": "code",
   "execution_count": 246,
   "metadata": {},
   "outputs": [
    {
     "data": {
      "text/plain": [
       "<matplotlib.colorbar.Colorbar at 0x12f0bf950>"
      ]
     },
     "execution_count": 246,
     "metadata": {},
     "output_type": "execute_result"
    },
    {
     "data": {
      "image/png": "[encoded data removed]",
      "text/plain": [
       "<Figure size 432x288 with 2 Axes>"
      ]
     },
     "metadata": {
      "needs_background": "light"
     },
     "output_type": "display_data"
    }
   ],
   "source": [
    "p = plt.contourf(KK,BETA,u2mat)\n",
    "plt.colorbar(p)"
   ]
  },
  {
   "cell_type": "code",
   "execution_count": null,
   "metadata": {},
   "outputs": [],
   "source": []
  },
  {
   "cell_type": "markdown",
   "metadata": {},
   "source": [
    "# Case K = 1 D = 0"
   ]
  },
  {
   "cell_type": "code",
   "execution_count": 67,
   "metadata": {},
   "outputs": [
    {
     "data": {
      "text/latex": [
       "$\\displaystyle \\left[\\begin{matrix}\\frac{1}{2 - \\beta} & - \\frac{1}{2 - \\beta} & 0 & 0\\\\0 & \\frac{2}{2 - \\beta} & 0 & 0\\\\- \\frac{\\beta \\left(1 - \\beta\\right)}{2 - \\beta} & 0 & \\frac{1}{2 - \\beta} & 0\\\\0 & - \\frac{\\beta}{2} & 0 & 0.5\\end{matrix}\\right]$"
      ],
      "text/plain": [
       "Matrix([\n",
       "[               1/(2 - beta), -1/(2 - beta),            0,   0],\n",
       "[                          0,  2/(2 - beta),            0,   0],\n",
       "[-beta*(1 - beta)/(2 - beta),             0, 1/(2 - beta),   0],\n",
       "[                          0,       -beta/2,            0, 0.5]])"
      ]
     },
     "metadata": {},
     "output_type": "display_data"
    },
    {
     "data": {
      "text/plain": [
       "[0.500000000000000, -2.0/(beta - 2.0), -1/(beta - 2.0)]"
      ]
     },
     "execution_count": 67,
     "metadata": {},
     "output_type": "execute_result"
    }
   ],
   "source": [
    "U1 = 1\n",
    "U2 = 1\n",
    "\n",
    "# Case #1\n",
    "hu1 = 1\n",
    "hu2 = 0\n",
    "hr1 = 1 - beta\n",
    "hr2 = 1\n",
    "hw = 1 + hr1*hu1 + hr2*hu2\n",
    "A1 = hw*hu1/(1+hr1)\n",
    "A2 = hw*hu2/(1+hr2)\n",
    "Jstar = Matrix([[U1*(1+hr1-hu1*hr1)/hw, -hu1*hr2*U2/hw, A1*(1 - hu1)/hw, -hu1*A2/hw],\n",
    "                [-hu2*hr1*U1/hw, U2*(1+hr2-hu2*hr2)/hw,  - hu2*A2/hw, A2*(1-hu2)/hw],\n",
    "               [-beta*hr1/(1+hr1),0,1/(1+hr1),0],\n",
    "               [0,-beta*hr2/(1+hr2),0,1/(1+hr2)]])\n",
    "display(Jstar)\n",
    "lamda = symbols('lamda')\n",
    "charpoly = Jstar.charpoly(lamda)\n",
    "charpoly = charpoly.as_expr()\n",
    "\n",
    "solve(charpoly,lamda)"
   ]
  },
  {
   "cell_type": "markdown",
   "metadata": {},
   "source": [
    "## Case 2 of K = 1, D = 0: u1 = u2 = 1/2"
   ]
  },
  {
   "cell_type": "code",
   "execution_count": 61,
   "metadata": {},
   "outputs": [
    {
     "data": {
      "text/latex": [
       "$\\displaystyle \\left[\\begin{matrix}\\frac{\\frac{3}{2} - \\frac{\\beta}{4}}{2 - \\frac{\\beta}{2}} & \\frac{\\frac{\\beta}{4} - \\frac{1}{2}}{2 - \\frac{\\beta}{2}} & \\frac{1 - \\frac{\\beta}{4}}{2 \\left(2 - \\frac{\\beta}{2}\\right)^{2}} & - \\frac{1 - \\frac{\\beta}{4}}{2 \\left(2 - \\frac{\\beta}{2}\\right)^{2}}\\\\\\frac{\\frac{\\beta}{4} - \\frac{1}{2}}{2 - \\frac{\\beta}{2}} & \\frac{\\frac{3}{2} - \\frac{\\beta}{4}}{2 - \\frac{\\beta}{2}} & - \\frac{1 - \\frac{\\beta}{4}}{2 \\left(2 - \\frac{\\beta}{2}\\right)} & \\frac{1 - \\frac{\\beta}{4}}{2 \\left(2 - \\frac{\\beta}{2}\\right)^{2}}\\\\- \\frac{\\beta \\left(1 - \\frac{\\beta}{2}\\right)}{2 - \\frac{\\beta}{2}} & 0 & \\frac{1}{2 - \\frac{\\beta}{2}} & 0\\\\0 & - \\frac{\\beta \\left(1 - \\frac{\\beta}{2}\\right)}{2 - \\frac{\\beta}{2}} & 0 & \\frac{1}{2 - \\frac{\\beta}{2}}\\end{matrix}\\right]$"
      ],
      "text/plain": [
       "Matrix([\n",
       "[    (3/2 - beta/4)/(2 - beta/2),     (beta/4 - 1/2)/(2 - beta/2), (1 - beta/4)/(2*(2 - beta/2)**2), -(1 - beta/4)/(2*(2 - beta/2)**2)],\n",
       "[    (beta/4 - 1/2)/(2 - beta/2),     (3/2 - beta/4)/(2 - beta/2),   -(1 - beta/4)/(2*(2 - beta/2)),  (1 - beta/4)/(2*(2 - beta/2)**2)],\n",
       "[-beta*(1 - beta/2)/(2 - beta/2),                               0,                   1/(2 - beta/2),                                 0],\n",
       "[                              0, -beta*(1 - beta/2)/(2 - beta/2),                                0,                    1/(2 - beta/2)]])"
      ]
     },
     "metadata": {},
     "output_type": "display_data"
    },
    {
     "data": {
      "text/latex": [
       "$\\displaystyle \\lambda^{4} + \\frac{\\lambda^{3} \\left(10 - \\beta\\right)}{\\beta - 4} + \\frac{\\lambda^{2} \\left(- \\beta^{2} - 4 \\beta + 36\\right)}{\\beta^{2} - 8 \\beta + 16} + \\frac{\\lambda \\left(\\beta^{4} - 6 \\beta^{3} - 20 \\beta^{2} - 40 \\beta + 448\\right)}{8 \\beta^{3} - 96 \\beta^{2} + 384 \\beta - 512} + \\frac{\\beta^{5} - 4 \\beta^{4} - 16 \\beta^{2} - 16 \\beta + 256}{8 \\beta^{4} - 128 \\beta^{3} + 768 \\beta^{2} - 2048 \\beta + 2048}$"
      ],
      "text/plain": [
       "lamda**4 + lamda**3*(10 - beta)/(beta - 4) + lamda**2*(-beta**2 - 4*beta + 36)/(beta**2 - 8*beta + 16) + lamda*(beta**4 - 6*beta**3 - 20*beta**2 - 40*beta + 448)/(8*beta**3 - 96*beta**2 + 384*beta - 512) + (beta**5 - 4*beta**4 - 16*beta**2 - 16*beta + 256)/(8*beta**4 - 128*beta**3 + 768*beta**2 - 2048*beta + 2048)"
      ]
     },
     "execution_count": 61,
     "metadata": {},
     "output_type": "execute_result"
    }
   ],
   "source": [
    "hu1 = Rational(1,2)\n",
    "hu2 = Rational(1,2)\n",
    "hr1 = 1 - beta*hu1\n",
    "hr2 = 1 - beta*hu2\n",
    "hw = 1 + hr1*hu1 + hr2*hu2\n",
    "A1 = hw*hu1/(1+hr1)\n",
    "A2 = hw*hu2/(1+hr2)\n",
    "Jstar = Matrix([[U1*(1+hr1-hu1*hr1)/hw, -hu1*hr2*U2/hw, A1*(1 - hu1)/hw, -hu1*A2/hw],\n",
    "                [-hu2*hr1*U1/hw, U2*(1+hr2-hu2*hr2)/hw,  - hu2*A2, A2*(1-hu2)/hw],\n",
    "               [-beta*hr1/(1+hr1),0,1/(1+hr1),0],\n",
    "               [0,-beta*hr2/(1+hr2),0,1/(1+hr2)]]) # didn't bother using that J* specific for u1 = u2\n",
    "display(Jstar)\n",
    "evals = Jstar.eigenvals()\n",
    "charpoly = Jstar.charpoly(lamda)\n",
    "charpoly = charpoly.as_expr()\n",
    "charpoly"
   ]
  },
  {
   "cell_type": "code",
   "execution_count": 63,
   "metadata": {},
   "outputs": [],
   "source": [
    "solns = solve(charpoly,lamda)"
   ]
  },
  {
   "cell_type": "markdown",
   "metadata": {},
   "source": [
    "## Case 3 of K = 1, D = 0: hbu > 0   so  $\\hat{W} = 1$"
   ]
  },
  {
   "cell_type": "code",
   "execution_count": 46,
   "metadata": {},
   "outputs": [
    {
     "data": {
      "text/latex": [
       "$\\displaystyle \\left[\\begin{matrix}\\hat{r_1} + 1 & 0 & 0 & 0\\\\0 & \\hat{r_2} + 1 & 0 & 0\\\\- \\frac{\\hat{r_1} \\beta}{\\hat{r_1} + 1} & 0 & \\frac{1}{\\hat{r_1} + 1} & 0\\\\0 & - \\frac{\\hat{r_2} \\beta}{\\hat{r_2} + 1} & 0 & \\frac{1}{\\hat{r_2} + 1}\\end{matrix}\\right]$"
      ],
      "text/plain": [
       "Matrix([\n",
       "[                  \\hat{r_1} + 1,                               0,                 0,                 0],\n",
       "[                              0,                   \\hat{r_2} + 1,                 0,                 0],\n",
       "[-\\hat{r_1}*beta/(\\hat{r_1} + 1),                               0, 1/(\\hat{r_1} + 1),                 0],\n",
       "[                              0, -\\hat{r_2}*beta/(\\hat{r_2} + 1),                 0, 1/(\\hat{r_2} + 1)]])"
      ]
     },
     "metadata": {},
     "output_type": "display_data"
    },
    {
     "data": {
      "text/latex": [
       "$\\displaystyle \\frac{\\left(\\hat{r_1} - \\lambda + 1\\right) \\left(\\hat{r_2} - \\lambda + 1\\right) \\left(\\hat{r_1} \\lambda + \\lambda - 1\\right) \\left(\\hat{r_2} \\lambda + \\lambda - 1\\right)}{\\left(\\hat{r_1} + 1\\right) \\left(\\hat{r_2} + 1\\right)}$"
      ],
      "text/plain": [
       "(\\hat{r_1} - lamda + 1)*(\\hat{r_2} - lamda + 1)*(\\hat{r_1}*lamda + lamda - 1)*(\\hat{r_2}*lamda + lamda - 1)/((\\hat{r_1} + 1)*(\\hat{r_2} + 1))"
      ]
     },
     "execution_count": 46,
     "metadata": {},
     "output_type": "execute_result"
    }
   ],
   "source": [
    "#Case 3a: u1 = u2 = 0\n",
    "\n",
    "hu1 = 0\n",
    "hu2 = 0\n",
    "U1 = 1\n",
    "U2 = 1\n",
    "A1 = 0\n",
    "A2 = 0\n",
    "hr1 = r1\n",
    "hr2 = r2\n",
    "Jstar = Matrix([[U1*(1+hr1-hu1*hr1), -hu1*hr2*U2, A1*(1 - hu1), -hu1*A2],\n",
    "                [-hu2*hr1*U1, U2*(1+hr2-hu2*hr2),  - hu2*A2,A2*(1-hu2),],\n",
    "               [-beta*hr1/(1+hr1),0,1/(1+hr1),0],\n",
    "               [0,-beta*hr2/(1+hr2),0,1/(1+hr2)]]) # didn't bother using that J* specific for u1 = u2\n",
    "display(Jstar)\n",
    "\n",
    "charpoly = Jstar.charpoly(lamda)\n",
    "factor(charpoly.as_expr())"
   ]
  },
  {
   "cell_type": "code",
   "execution_count": 47,
   "metadata": {},
   "outputs": [
    {
     "data": {
      "text/latex": [
       "$\\displaystyle \\left[\\begin{matrix}1 & 0 & \\hat{u_1} \\left(1 - \\hat{u_1}\\right) & - \\hat{u_1} \\hat{u_2}\\\\0 & 1 & - \\hat{u_2}^{2} & \\hat{u_2} \\left(1 - \\hat{u_2}\\right)\\\\0 & 0 & 1.0 & 0\\\\0 & 0 & 0 & 1.0\\end{matrix}\\right]$"
      ],
      "text/plain": [
       "Matrix([\n",
       "[1, 0, \\hat{u_1}*(1 - \\hat{u_1}),      -\\hat{u_1}*\\hat{u_2}],\n",
       "[0, 1,             -\\hat{u_2}**2, \\hat{u_2}*(1 - \\hat{u_2})],\n",
       "[0, 0,                       1.0,                         0],\n",
       "[0, 0,                         0,                       1.0]])"
      ]
     },
     "metadata": {},
     "output_type": "display_data"
    },
    {
     "data": {
      "text/latex": [
       "$\\displaystyle 1.0 \\left(1.0 \\lambda - 1.0\\right)^{4}$"
      ],
      "text/plain": [
       "1.0*(1.0*lamda - 1.0)**4"
      ]
     },
     "execution_count": 47,
     "metadata": {},
     "output_type": "execute_result"
    }
   ],
   "source": [
    "#Case 3c (Case 3b did by hand): r1 = r2 = 0\n",
    "hw = 1\n",
    "hu1 = u1\n",
    "hu2 = u2\n",
    "hr1 = 0\n",
    "hr2 = 0\n",
    "\n",
    "U1 = 1\n",
    "U2 = 1\n",
    "A1 = hw*hu1/(1+hr1)\n",
    "A2 = hw*hu2/(1+hr2)\n",
    "\n",
    "Jstar = Matrix([[U1*(1+hr1-hu1*hr1), -hu1*hr2*U2, A1*(1 - hu1), -hu1*A2],\n",
    "                [-hu2*hr1*U1, U2*(1+hr2-hu2*hr2),  - hu2*A2,A2*(1-hu2),],\n",
    "               [-beta*hr1/(1+hr1),0,1/(1+hr1),0],\n",
    "               [0,-beta*hr2/(1+hr2),0,1/(1+hr2)]]) # didn't bother using that J* specific for u1 = u2\n",
    "display(Jstar)\n",
    "\n",
    "charpoly = Jstar.charpoly(lamda)\n",
    "factor(charpoly.as_expr())"
   ]
  },
  {
   "cell_type": "code",
   "execution_count": null,
   "metadata": {},
   "outputs": [],
   "source": []
  }
 ],
 "metadata": {
  "kernelspec": {
   "display_name": "Python 3",
   "language": "python",
   "name": "python3"
  },
  "language_info": {
   "codemirror_mode": {
    "name": "ipython",
    "version": 3
   },
   "file_extension": ".py",
   "mimetype": "text/x-python",
   "name": "python",
   "nbconvert_exporter": "python",
   "pygments_lexer": "ipython3",
   "version": "3.7.6"
  }
 },
 "nbformat": 4,
 "nbformat_minor": 4
}

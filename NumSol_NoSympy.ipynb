{
 "cells": [
  {
   "cell_type": "code",
   "execution_count": 1,
   "metadata": {},
   "outputs": [],
   "source": [
    "import numpy as np\n",
    "from numpy import linalg as LA\n",
    "import scipy.stats as scs\n",
    "import matplotlib.pyplot as plt"
   ]
  },
  {
   "cell_type": "code",
   "execution_count": 108,
   "metadata": {},
   "outputs": [],
   "source": [
    "def Kfun(d, norm = scs.norm(0,1)):\n",
    "    #input: d real positive numbe or -1, and a normmal curve\n",
    "    #output K: the integral between -d and d under the curve, unless d = -1\n",
    "    # d=-1 is signal to return K = 1\n",
    "    \n",
    "    if d == -1:\n",
    "        return(1.0)\n",
    "    K = norm.cdf(d) - norm.cdf(-d)\n",
    "    return(K)\n",
    "def pcfun(d, norm = scs.norm(0,1)):\n",
    "    #input: d real positive numbe or -1, and a normmal curve\n",
    "    #output pc: the integral from d to infinity under the curve, unless d = -1\n",
    "    # d=-1 is signal to return pc = 0\n",
    "    if d == -1:\n",
    "        return(0)\n",
    "    pc = 1 - norm.cdf(d)\n",
    "    return(pc)\n",
    "def pwfun(d,norm = scs.norm(0,1)):\n",
    "    #input: d real positive numbe or -1, and a normmal curve\n",
    "    #output pw: the integral from d to infinity under the curve, unless d = -1\n",
    "    # d=-1 is signal to return pw = 0\n",
    "    if d == -1:\n",
    "        return(0)\n",
    "    pw = norm.cdf(-d)\n",
    "    return(pw)\n",
    "\n",
    "def phi_fun(p_i):\n",
    "    #evaluated probability of learning a trait socially if there's conformist bias\n",
    "    return(p_i*(1-p_i)*(2*p_i - 1))\n",
    "\n",
    "def Wv_fun(p_i,v,r_i,D,K,pc):\n",
    "    #v is a stand in for u, x, or y\n",
    "    soc_learn = K*(p_i + D*phi_fun(p_i))\n",
    "    to_return = v*(1+r_i)*(soc_learn + pc)\n",
    "    return(to_return)\n",
    "def Wvbar_fun(p_1,p_2,v,D,K,pc):\n",
    "    pw = 1 - K - pc\n",
    "    soc_learn = K*(1 - p_1 - p_2 - D*phi_fun(p_1 + p_2))\n",
    "    to_return = v*(soc_learn + pw)\n",
    "    return(to_return)\n",
    "\n",
    "def ri_fun(r_i,p_i,gamma = 1, beta = 1):\n",
    "    alpha = 1 + gamma\n",
    "    ri_next = r_i*(alpha - beta*p_i*r_i)/(1+gamma*r_i)\n",
    "    return(ri_next)\n",
    "\n",
    "def NextGen(uvec,xvec,yvec,rvec, D, K,pc,deltas = [0, 0, 0], beta=1, gamma=1):\n",
    "    #@inputs: curr is current values of u_1,u_2,bu,...\n",
    "    #         The other inputs are the parameters\n",
    "    #         deltas are [delta_D, delta_K, delta_pc]\n",
    "    D_y = D + deltas[0]; K_x = K + deltas[1]; pc_x = pc + deltas[2];\n",
    "    u = sum(uvec)\n",
    "    x = sum(xvec)\n",
    "    y = sum(yvec)\n",
    "    p1 = uvec[0] + xvec[0] + yvec[0]\n",
    "    p2 = uvec[1] + xvec[1] + yvec[1]\n",
    "    Wu1 = Wv_fun(p1,u,rvec[0],D,K,pc)\n",
    "    Wu2 = Wv_fun(p2,u,rvec[1],D,K,pc)\n",
    "    Wbu = Wvbar_fun(p1,p2,u,D,K,pc)\n",
    "    if x>0 and y >0:\n",
    "        Wx1 = Wv_fun(p1,x,rvec[0],D,K_x,pc_x)\n",
    "        Wx2 = Wv_fun(p2,x,rvec[1],D,K_x,pc_x)\n",
    "        Wbx = Wvbar_fun(p1,p2,x,D,K_x,pc_x)\n",
    "        Wy1 = Wv_fun(p1,y,rvec[0],D_y,K,pc)\n",
    "        Wy2 = Wv_fun(p2,y,rvec[1],D_y,K,pc)\n",
    "        Wby = Wvbar_fun(p1,p2,y,D,K,pc)\n",
    "    else:\n",
    "        Wx1 = Wx2 = Wbx = Wy1 = Wy2 = Wby = 0\n",
    "    \n",
    "    W = Wu1 + Wu2 + Wbu + Wx1 + Wx2 + Wbx + Wy1 + Wy2 + Wby\n",
    "    freqs = (1/W)*np.array([Wu1, Wu2, Wbu, Wx1, Wx2, Wbx, Wy1, Wy2, Wby])\n",
    "    uvec = freqs[0:3]; xvec = freqs[3:6]; yvec = freqs[6:9]\n",
    "    \n",
    "    rvec = [ri_fun(rvec[0], p1, gamma,beta), ri_fun(rvec[1],p2,gamma,beta)]\n",
    "    return(uvec, xvec, yvec, rvec,W)\n",
    "\n",
    "# helper functions for jacobian\n",
    "def theta_fun(p):\n",
    "    # derived from phi(p + delta_p) = phi(p) + delta_p theta(phi)\n",
    "    # helper function for jacobian\n",
    "    return(6*p*(1-p) - 1)\n",
    "\n",
    "def Ai_jac(uvec,rvec,W,i):\n",
    "    # given equilibrium values of u, r, W. i says which u, r to use. i = 0 or 1\n",
    "    # output: a common constant in jacobian\n",
    "    if i in [0,1]:\n",
    "        Ai = W*uvec[i]/(1 + rvec[i])\n",
    "        return(Ai)\n",
    "    else:\n",
    "        print(\"i out of range\")\n",
    "def Bi_jac(uvec,rvec,W,K,D,i):\n",
    "    # given parameters K,D and equilibrium values uvec, r. i tells us which uvec, rvec entry to use\n",
    "    # output: a common constant in jacobian\n",
    "    ui = uvec[i]; ri = rvec[i]\n",
    "    inside = 1 + D*theta_fun(ui) - D*theta_fun(sum(uvec)) + ri*(1 + D*phi_fun(ui))\n",
    "    Bi = K*inside\n",
    "    return(Bi)\n",
    "# def C_jac(uvec, rvec, deltas, D):\n",
    "#     # jacobian helper fun\n",
    "#     # input: vector of u's, vector of r's, deltas to change params, and D\n",
    "#     #         deltas are [delta_D, delta_K, delta_pc]\n",
    "#     dd = deltas[0]\n",
    "#     dk = deltas[1]\n",
    "#     dpc = deltas[2]\n",
    "#     u1 = uvec[0]; u2 = uvec[1];\n",
    "#     r1 = rvec[0]; r2 = rvec[1];\n",
    "#     C = dk*D*(phi_fun(u1) + phi_fun(u2) -phi_fun(u1+u2))#term 1\n",
    "#     C = C + dpc\n",
    "#     C = C + sum([rvec[i]*(dk*(uvec[i] + D*phi_fun(uvec[i]))+dpc) for i in [0,1]])   \n",
    "#     return(C)\n",
    "# def E_jac(uvec, rvec, deltas, K):\n",
    "#     # jacobian helper fun\n",
    "#     # input: vector of u's, vector of r's, deltas to change params, and D\n",
    "#     #         deltas are [delta_D, delta_K, delta_pc]\n",
    "#     dd = deltas[0]\n",
    "#     u1 = uvec[0]; u2 = uvec[1]; r1 = rvec[0]; r2 = rvec[1];\n",
    "#     E = K*dd[phi_fun(u1)*(1 + dd*r1) + phi_fun(u2)*(1+dd*r2) - phi(u1 + u2)]\n",
    "#     return(E)\n",
    "\n",
    "def U_jac(uvec, rvec, K, D,i):\n",
    "    # gives U constant for Ui (if i = 0,1) or Ubar (if i = 2)\n",
    "    if i in [0,1]:\n",
    "        ui = uvec[i]; ri = rvec[i]\n",
    "        U = (1 + ri)*K*(1 + D*phi_fun(ui))\n",
    "    elif i == 2:\n",
    "        U = K*D*theta_fun(sum(uvec))\n",
    "    return(U)\n",
    "\n",
    "def Jac_UR(uvec, rvec, K, D, W, deltas, beta, gamma):\n",
    "    u1 = uvec[0]; u2 = uvec[1]; bu = uvec[2]; r1 = rvec[0]; r2 = rvec[1]\n",
    "    Uv = [ U_jac(uvec, rvec, K, D, i) for i in [0,1,2]]\n",
    "    Av = [Ai_jac(uvec, rvec, W, i) for i in [0,1]]\n",
    "    Bv = [Bi_jac(uvec,rvec,W,K,D,i) for i in [0,1]]\n",
    "    U1 = Uv[0]; \n",
    "    U2 = Uv[1]; \n",
    "    bU = Uv[2]; \n",
    "    A1 = Av[0]; \n",
    "    A2 = Av[1]; \n",
    "    B1 = Bv[0]; \n",
    "    B2 = Bv[1]\n",
    "    Rpv = [ -beta*rvec[i]/(1+gamma*rvec[i]) for i in [0,1]]; \n",
    "    Rv = [1 - gamma*rvec[i]/(1+gamma*rvec[i]) for i in [0,1]]\n",
    "    \n",
    "    row1 = np.array([U1 + B1*u1, u1*B2, 0, A1*(1+u1), A2*u1])\n",
    "    row1 = row1/(W - W*u1)\n",
    "    row2 = np.array([u2*B1, U2 + B2*u2, 0, u2*A1, A2*(1+u2)])\n",
    "    row2 = row2/(W - W*u2)\n",
    "    row3 = np.array([-bU + bu*B1, -bU + bu*B2,0,bu*A1, bu*A2])\n",
    "    row4 =[Rpv[0],0,0,Rv[0],0]\n",
    "    row5 = [0,Rpv[0],0,0,Rv[1]]\n",
    "    J = np.array([row1,row2,row3,row4,row5])\n",
    "    return(J)\n",
    "\n",
    "def eval_x(uvec, rvec, W, D, deltas):\n",
    "    \n",
    "    dk = deltas[1]; dpc = deltas[2]\n",
    "    u1 = uvec[0]\n",
    "    u2 = uvec[1]\n",
    "    r1 = rvec[0]\n",
    "    r2 = rvec[1]\n",
    "    X1 = (1 + r1)*(dk*(u1 + D*phi_fun(u1)) + dpc)\n",
    "    X2 = (1 + r1)*(dk*(u1 + D*phi_fun(u1)) + dpc)\n",
    "    bX = -dk*(sum(uvec) + D*phi_fun(sum(uvec))) - dpc\n",
    "    eval_x = 1 + (X1 + X2+ bX)/W\n",
    "    return(eval_x)\n",
    "\n",
    "def eval_y(uvec, rvec, W, K, D, deltas):\n",
    "    dd = deltas[0]\n",
    "    Yiv = [K*(1+rvec[i])*dd*phi_fun(uvec[i]) for i in [0,1]]\n",
    "    bY = -K*dd*phi_fun(sum(uvec))\n",
    "    eval_y = 1 + (sum(Yiv)+ bY)/W\n",
    "    return(eval_y)\n",
    "\n",
    "def Check_Stable(uvec,xvec,yvec,rvec,W,K,D,deltas,beta,gamma):\n",
    "    # Given stable points and parameters, checks stability\n",
    "    # returns 1 if stable, 0 if unstable\n",
    "    # deltas are [delta_D, delta_K, delta_pc]\n",
    "    Jacobian_UR = Jac_UR(uvec, rvec, K, D, W, deltas, beta, gamma)\n",
    "    lambdas = np.zeros(7)\n",
    "    lambdas[0:5] = LA.eigvals(Jacobian_UR) # this should be an array of 5 elements\n",
    "    lambdas[5] = eval_x(uvec, rvec, W, D, deltas)\n",
    "    lambdas[6] = eval_y(uvec, rvec, W, K, D, deltas)\n",
    "    lambdas = np.absolute(np.real(lambdas))\n",
    "    is_stable = int(sum(if_stable)<1)\n",
    "    return(is_stable,lambdas)\n",
    "\n",
    "def FindEquilibrium(uvec,xvec,yvec,rvec,W,K,pc,D,deltas,beta,gamma,tsteps= 10):\n",
    "    # uvec,xvec,yvec,rvec have initial values\n",
    "    # runs recursions until a stable point is reached\n",
    "    # deltas are [delta_D, delta_K, delta_pc]\n",
    "    reached_eq = 0\n",
    "    prev = np.concatenate((uvec,xvec,yvec,rvec), axis = None)\n",
    "    for t in range(0,tsteps): # could also do While reached_eq= 0, but could lead to infinite loop if no stable point\n",
    "        ucurr, xcurr, ycurr, rcurr, Wcurr = NextGen(uvec,xvec,yvec,rvec, D, K,pc,deltas, beta, gamma)\n",
    "        curr = np.concatenate((ucurr,xcurr,ycurr,rcurr), axis = None)\n",
    "        if np.allclose(curr,prev): # checks that the two vectors are equal\n",
    "            reached_eq = 1\n",
    "            return(uvec, xvec, yvec, rvec, W, t, reached_eq)\n",
    "        else:\n",
    "            uvec,xvec,yvec,rvec,W = ucurr, xcurr, ycurr, rcurr, Wcurr\n",
    "\n",
    "            prev = curr\n",
    "    \n",
    "    return(uvec,xvec,yvec,rvec,W,t,reached_eq) \n",
    "    \n",
    "def Bif_justU(uvec,W,K,D,pc,beta,gamma):\n",
    "    deltas = [0,0,0]; xvec = [0,0,0]; yvec = [0,0,0]\n",
    "    rvec = [1,1] #r always starts out at 1\n",
    "    W = 3*pc\n",
    "    tsteps = 1000\n",
    "    step = 0.2\n",
    "    nsteps1 = 1.0/step + 1\n",
    "    ncombos = nsteps1*(nsteps1-1)/2\n",
    "    eq_data = np.zeros(ncombos,9)#equilibrium data. columns are u1,u2,bu,r1,r2,w,reached_eq,is_stable,t\n",
    "    i = 0\n",
    "    for u1 in np.linspace(0,1,nsteps1):\n",
    "        nsteps2 = (1 - u1)/step + 1\n",
    "        for u2 in np.linspace(0,1-u1,nsteps2):\n",
    "            bu = 1 - u1 - u2\n",
    "            eq_data[i,:] = FindStablePoint(uvec,xvec,yvec,rvec,W,K,pc,D,deltas,beta,gamma,tsteps)\n",
    "            i += 1"
   ]
  },
  {
   "cell_type": "code",
   "execution_count": 135,
   "metadata": {},
   "outputs": [
    {
     "name": "stdout",
     "output_type": "stream",
     "text": [
      "The UR eigenvalues are [0.         0.29272954 0.29272954 0.29272954 0.29272954]\n",
      "The stable point is [0.41233055 0.41233055 0.17533889] [0.708061312738489, 0.708061312738489]\n"
     ]
    },
    {
     "data": {
      "text/plain": [
       "array([0.98674469, 0.98594864, 0.98515258, 0.98435652])"
      ]
     },
     "execution_count": 135,
     "metadata": {},
     "output_type": "execute_result"
    }
   ],
   "source": [
    "# Special case K = 0\n",
    "# just set D = 1\n",
    "\n",
    "# initials:\n",
    "mu = 0.2; sigma = 1 # These are the parameters of Wakano Aoki 2007\n",
    "norm = scs.norm(mu,sigma**2)\n",
    "d = 0\n",
    "pc = pcfun(d, norm)\n",
    "K = 0; D = 1;\n",
    "deltad = 0.05; deltaD = 0.05\n",
    "dk = Kfun(d+deltad,norm)-K\n",
    "dpc = pcfun(d+deltad,norm)- pc\n",
    "dd = 0.05\n",
    "deltas = [dd, dk, dpc]\n",
    "beta = gamma = 1 #for simplicity\n",
    "uvec = [0,0,1]\n",
    "rvec = [1,1]\n",
    "xvec = yvec =  [0,0,0]\n",
    "W = 3*pc\n",
    "tsteps = 10000\n",
    "uvec,xvec,yvec,rvec,W,tstop,reached_eq = FindEquilibrium(uvec,xvec,yvec,rvec,W,K,pc,D,deltas,beta,gamma, tsteps)\n",
    "#FindEquilibrium(uvec,xvec,yvec,rvec,W,K,pc,D,deltas,beta,gamma, tsteps)\n",
    "J_UR = Jac_UR(uvec, rvec, K, D, W, deltas, beta, gamma)\n",
    "lambdas_u = LA.eigvals(J_UR)\n",
    "print(\"The UR eigenvalues are %s\" % np.real(lambdas_u))\n",
    "print(\"The stable point is %s\" %uvec, rvec)\n",
    "eval_x(uvec,rvec,W,D,deltas)\n",
    "d_to_try = np.linspace(0,5,100)\n",
    "D_to_try = np.linspace(0,1,4)\n",
    "dkdpc_vec = [[dd, Kfun(d+delta,norm) - K,pcfun(d+delta,norm) - pc]  for delta in d_to_try]\n",
    "\n",
    "lambdasx = np.array([np.array([eval_x(uvec, rvec, W, D, deltas) for deltas in dkdpc_vec]) for D in D_to_try])\n",
    "\n"
   ]
  },
  {
   "cell_type": "code",
   "execution_count": 58,
   "metadata": {},
   "outputs": [
    {
     "name": "stdout",
     "output_type": "stream",
     "text": [
      "0\n",
      "0.0\n",
      "next gen[0.35551331 0.42015209 0.2243346 ]\n",
      "(array([0.35551331, 0.42015209, 0.2243346 ]), array([0., 0., 0.]), array([0., 0., 0.]), [0.6166666666666667, 0.6])\n"
     ]
    },
    {
     "data": {
      "text/plain": [
       "0.982152"
      ]
     },
     "execution_count": 58,
     "metadata": {},
     "output_type": "execute_result"
    }
   ],
   "source": [
    "# TESTS\n",
    "\n",
    "mu = 1\n",
    "sigma = 1\n",
    "norm = scs.norm(mu,sigma)\n",
    "pc = pcfun(0,norm)\n",
    "\n",
    "phi_fun(1/4)\n",
    "p_i = 0.5; v = 1; r_i = 0.5; D = 0.2; K = 0.68; pc = 0.17\n",
    "Wv_fun(p_i,v,r_i,D,K,pc)\n",
    "\n",
    "p_1 = 0; p_2 = 0.5; v = 1;D = 0.2; K = 0.68; pc = 0.17\n",
    "Wvbar_fun(p_1,p_2,v,D,K,pc)\n",
    "\n",
    "r_i = 1; p_i = 0.5\n",
    "ri_fun(r_i, p_i)\n",
    "\n",
    "u1 = u2 = 0.3\n",
    "bu = 1 - u1 -u2\n",
    "uvec = [u1,u2,bu]\n",
    "x1 = x2 = bx = y1 = y2 = by = 0\n",
    "xvec = [x1,x2,bx]; yvec = [y1,y2,by]\n",
    "r1 = r2 = 0.5\n",
    "rvec = [r1,r2]\n",
    "\n",
    "#TO-DO: Check NextGen more thoroughly\n",
    "D = 0; K = 0.68; pc = 0.17\n",
    "ans = NextGen(uvec,xvec,yvec,rvec,D,K,pc)\n",
    "print(\"next gen\" + str(sum(ans[0:3])))\n",
    "print(ans)\n",
    "\n",
    "theta_fun(0.5)\n",
    "\n",
    "W = 0.5\n",
    "Ai_jac(uvec,rvec,W,1)\n",
    "\n",
    "phi_fun(1)\n",
    "\n",
    "#TO-DO: test Bi_jac\n",
    "deltas = [0, 0, 1]\n",
    "dk = deltas[1]\n",
    "dpc = deltas[2]\n",
    "rvec = [1,1]\n",
    "uvec = [0.5,0.5]\n",
    "sum([rvec[i]*(dk*(uvec[i] + D*phi_fun(uvec[i]))+dpc) for i in [0,1]])\n",
    "\n",
    "#TO-DO: test E_jac\n",
    "\n",
    "#TO-DO: test U_jac\n",
    "\n",
    "# TO-DO: Check eval_x\n",
    "uvec = [0.3, 0.3, 0.1]\n",
    "rvec = [0.7, 0.7]\n",
    "W = 2\n",
    "D = 0.2\n",
    "deltas = [0.01,0.05,-0.02]\n",
    "eval_x(uvec,rvec,W, D, deltas)"
   ]
  },
  {
   "cell_type": "code",
   "execution_count": 35,
   "metadata": {},
   "outputs": [
    {
     "data": {
      "text/plain": [
       "[-0.084, -0.084, -0.04800000000000002]"
      ]
     },
     "execution_count": 35,
     "metadata": {},
     "output_type": "execute_result"
    }
   ],
   "source": []
  },
  {
   "cell_type": "code",
   "execution_count": 62,
   "metadata": {},
   "outputs": [
    {
     "data": {
      "text/plain": [
       "array([-0.23606798,  4.23606798])"
      ]
     },
     "execution_count": 62,
     "metadata": {},
     "output_type": "execute_result"
    }
   ],
   "source": []
  },
  {
   "cell_type": "code",
   "execution_count": 70,
   "metadata": {},
   "outputs": [
    {
     "data": {
      "text/plain": [
       "[1, 1]"
      ]
     },
     "execution_count": 70,
     "metadata": {},
     "output_type": "execute_result"
    }
   ],
   "source": []
  },
  {
   "cell_type": "code",
   "execution_count": 73,
   "metadata": {},
   "outputs": [
    {
     "name": "stdout",
     "output_type": "stream",
     "text": [
      "1\n",
      "2\n",
      "3\n"
     ]
    }
   ],
   "source": []
  },
  {
   "cell_type": "code",
   "execution_count": 106,
   "metadata": {},
   "outputs": [
    {
     "data": {
      "text/plain": [
       "array([[0., 0.],\n",
       "       [1., 2.],\n",
       "       [0., 0.]])"
      ]
     },
     "execution_count": 106,
     "metadata": {},
     "output_type": "execute_result"
    }
   ],
   "source": []
  },
  {
   "cell_type": "code",
   "execution_count": 102,
   "metadata": {},
   "outputs": [
    {
     "data": {
      "text/plain": [
       "1"
      ]
     },
     "execution_count": 102,
     "metadata": {},
     "output_type": "execute_result"
    }
   ],
   "source": []
  },
  {
   "cell_type": "code",
   "execution_count": null,
   "metadata": {},
   "outputs": [],
   "source": []
  }
 ],
 "metadata": {
  "kernelspec": {
   "display_name": "Python 3",
   "language": "python",
   "name": "python3"
  },
  "language_info": {
   "codemirror_mode": {
    "name": "ipython",
    "version": 3
   },
   "file_extension": ".py",
   "mimetype": "text/x-python",
   "name": "python",
   "nbconvert_exporter": "python",
   "pygments_lexer": "ipython3",
   "version": "3.7.3"
  }
 },
 "nbformat": 4,
 "nbformat_minor": 2
}

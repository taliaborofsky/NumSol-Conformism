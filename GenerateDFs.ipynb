{
 "cells": [
  {
   "cell_type": "markdown",
   "metadata": {},
   "source": [
    "## Supporting Information.\n",
    "Borofsky, T. and Feldman, M. 2020. Static environments with limited resources select for multiple foraging strategies rather than conformity in social learners.\n",
    "# Appendix S2: Solving for Initial Equilibria"
   ]
  },
  {
   "cell_type": "code",
   "execution_count": 3,
   "metadata": {},
   "outputs": [],
   "source": [
    "#from PIL import Image\n",
    "#import sys\n",
    "#sys.path.append('/usr/local/lib/python3.7/site-packages')\n",
    "#import os\n",
    "import numpy as np\n",
    "import importlib\n",
    "from numpy import linalg\n",
    "import helperfuns\n",
    "from helperfuns import *\n",
    "import DatFrameFuns\n",
    "from DatFrameFuns import *\n",
    "import scipy.stats as scs\n",
    "import matplotlib as mpl\n",
    "import matplotlib.pyplot as plt\n",
    "#importlib.reload(helperfuns)\n",
    "import pandas as pd\n",
    "#import sympy as sp\n",
    "#from sympy import *\n",
    "#from sympy.solvers import solve\n",
    "#np.set_printoptions(precision=3, suppress = True)\n",
    "#import seaborn as sns\n",
    "# next two libraries are used to flatten list of lists\n",
    "import functools\n",
    "import operator\n",
    "# for formatting tick labels\n",
    "#from matplotlib.ticker import FormatStrFormatter\n",
    "\n",
    "#for parallelizing:\n",
    "import multiprocessing as mp\n",
    "from pathos.multiprocessing import ProcessingPool as Pool\n",
    "\n",
    "\n"
   ]
  },
  {
   "cell_type": "markdown",
   "metadata": {},
   "source": [
    "## First we set up a parameter mesh, as described in Section 5.1"
   ]
  },
  {
   "cell_type": "code",
   "execution_count": 2,
   "metadata": {},
   "outputs": [],
   "source": [
    "\n",
    "Dvals = np.sort(np.append(np.arange(-2,1.2,0.2),[-0.01,0.01]))\n",
    "svals = np.sort(np.append(np.arange(0,4.5,0.5), [0.01]))\n",
    "muvals = np.array([-2, -1, -0.5, -0, 0, 0.5,1,2])\n",
    "betavals = np.arange(0,1.25,0.25)\n",
    "df = get_param_grid(Dvals, svals, muvals, betavals)"
   ]
  },
  {
   "cell_type": "markdown",
   "metadata": {},
   "source": [
    "## We use parallelization to to greatly speed up the dataframe generation. "
   ]
  },
  {
   "cell_type": "code",
   "execution_count": null,
   "metadata": {},
   "outputs": [],
   "source": [
    "\n",
    "# Parallelize and find equilibria\n",
    "\n",
    "cores=mp.cpu_count()\n",
    "# split dataframe over cores, stored in df_split\n",
    "df_split = np.array_split(df, cores, axis=0)\n",
    "pool = Pool(cores)\n",
    "\n",
    "# Run get_1side_df over each dataframe in df_split. \n",
    "# get_1side_df iterates 50000 time steps. Stack dataframe (df) parts into one df.\n",
    "\n",
    "df_out = np.vstack(pool.map(get_1side_df, df_split))\n",
    "pool.close()\n",
    "pool.join()\n",
    "pool.clear()\n",
    "df_1side = pd.DataFrame(df_out, columns = df.columns)\n",
    "\n",
    "# fix the column names\n",
    "colnames = ['mu', 'K', 'pc', 's', 'D', 'beta',\n",
    "       'u1init', 'u2init', 'buinit', 'r1init', 'r2init', 'u1eq', 'u2eq',\n",
    "       'bueq', 'r1eq', 'r2eq', 'Weq', 'time', 'reached_eq', 'URstable']\n",
    "df_1side = df_1side[colnames] # gets rid of the added unnamed columns\n",
    "#save to csv\n",
    "df_1side.to_csv('data_1side_1stRound.csv')"
   ]
  },
  {
   "cell_type": "markdown",
   "metadata": {},
   "source": [
    "## Check the result of the 500,000th iteration to see if it is at equilibrium."
   ]
  },
  {
   "cell_type": "code",
   "execution_count": null,
   "metadata": {},
   "outputs": [],
   "source": [
    "rtol = 1e-10\n",
    "atol = 1e-10\n",
    "u = 1\n",
    "should0_u1 = df_1side.Weq*df_1side.u1eq - u*(df.K*(df.u1eq + df.D*phi_fun(df.u1eq)) + df.pc)*(1+df.r1eq)\n",
    "should0_u2 = df_1side.Weq*df_1side.u2eq - u*(df.K*(df.u2eq + df.D*phi_fun(df.u2eq)) + df.pc)*(1+df.r2eq)\n",
    "should0_bu = df_1side.Weq*df_1side.bueq - u*(df.K*(1 - df.u1eq - df.u2eq - df.D*phi_fun(df.u1eq) - df.D*phi_fun(df.u2eq)) + 1-df.K - df.pc)\n",
    "\n",
    "reached_eq = np.isclose(should0_u1,0,rtol=rtol, atol = atol)\n",
    "reached_eq = reached_eq & np.isclose(should0_u2,0,rtol=rtol, atol = atol)\n",
    "reached_eq = reached_eq & np.isclose(should0_bu,0,rtol=rtol, atol = atol)\n",
    "\n",
    "df.reached_eq = reached_eq"
   ]
  },
  {
   "cell_type": "markdown",
   "metadata": {},
   "source": [
    "## Now try to fill in rows that didn't reach equilibrium"
   ]
  },
  {
   "cell_type": "code",
   "execution_count": null,
   "metadata": {},
   "outputs": [],
   "source": [
    "df_correct = df_1side.query('reached_eq==1')\n",
    "df_fail = df_1side.query('reached_eq==0')\n",
    "df_fail.time = -1\n",
    "# from scipy.optimize import fsolve\n",
    "df_fixed = fsolve_failed_eq(df_fail)\n",
    "\n",
    "df_1side = df_correct.append(df_fixed)\n",
    "#df_1side.to_csv('data_1side_fixed.csv')\n",
    "df_1side.to_csv('data_1side_fixed.csv')\n",
    "\n",
    "# reflect equilibria in the manner described in the Numerical Analysis, equations 24 - 25.\n",
    "df_total = reflect_df(df_1side)\n",
    "\n",
    "# make it look good.\n",
    "df = df_total.sort_values(by=['mu','beta','s','D'])\n",
    "df.reset_index(inplace=True, drop=True) \n",
    "df = df[colnames]\n",
    "# There's an issue with setting D = 0. I'm getting weird python e-16 values instead. \n",
    "# This can make code difficult later on, so I'm rounding it now\n",
    "df.D = df['D'].round(6)\n",
    "# We want later to be able to count how many times iteration failed for each equilibrium\n",
    "df['iterated'] = df.time!= -1\n",
    "df.to_csv('data.csv')"
   ]
  },
  {
   "cell_type": "code",
   "execution_count": null,
   "metadata": {},
   "outputs": [],
   "source": [
    "# We have a lot of repeat equilibria in the dataframe df because many of the initial points go to the same equilibrium.\n",
    "# We now extract the unique equilibria for each parameter combination.\n",
    "df_main = df[df.reached_eq==1]\n",
    "unique_eq = get_UniqueEquilibria(df_main)\n",
    "diff = np.abs(unique_eq.u1eq - unique_eq.u2eq)\n",
    "unique_eq['difference'] = diff\n",
    "unique_eq.to_csv('UniqueEquilibriaDF.csv')"
   ]
  },
  {
   "cell_type": "markdown",
   "metadata": {},
   "source": [
    "# Check Stability\n",
    "\n",
    "There are many cases of $C_D = 0$ that need to be resolved"
   ]
  },
  {
   "cell_type": "code",
   "execution_count": null,
   "metadata": {},
   "outputs": [],
   "source": [
    "df = pd.read_csv('UniqueEquilibriaDF.csv')\n",
    "df = df.drop(columns='Unnamed: 0')\n",
    "y_neg_invades = df.C_D < 0\n",
    "df['y_neg_invades'] = y_neg_invades\n",
    "y_pos_invades = df.C_D > 0\n",
    "df['y_pos_invades'] = y_pos_invades"
   ]
  },
  {
   "cell_type": "code",
   "execution_count": null,
   "metadata": {},
   "outputs": [],
   "source": [
    "\n",
    "def Check_Stable_D(row):\n",
    "# We have a bunch of points with C_D = 0. Check_Stable_D checks if they're actually stable\n",
    "\n",
    "    row = row.copy() # explicitly tell python i'm making a copy so i don't get the warning\n",
    "    \n",
    "    # get vectors of post perturb values of all the frequencies\n",
    "    umat,ymat,rmat = Perturb(row) # Perturb is a function defined below\n",
    "    umat = np.array(umat); ymat = np.array(ymat); rmat = np.array(rmat)\n",
    "    # check stability to increase in D\n",
    "    \n",
    "    dD =  0.01\n",
    "    n = len(umat[0]) \n",
    "    y_pos_invades = False # default is that it is stable\n",
    "    if row.D <= 0.99:\n",
    "        for i in range(0,n):\n",
    "            result = NextGen(umat[:,i],[0,0,0],ymat[:,i],rmat[:,i], \n",
    "                             row.D, row.K,row.pc,row.beta,\n",
    "                             deltas = [dD, 0, 0], eta=1)\n",
    "            yvec = result[2]\n",
    "            y = sum(yvec)\n",
    "            if y > 0.01: \n",
    "                y_pos_invades = True\n",
    "                break\n",
    "    \n",
    "    dD = -0.01\n",
    "    y_neg_invades = False # default is that it is stable\n",
    "    #check stability to decrease in D\n",
    "    if row.D >= -1.99: # otherwise it's stable because D can't go down further\n",
    "        for i in range(0,n):\n",
    "            result = NextGen(umat[:,i],[0,0,0],ymat[:,i],rmat[:,i], \n",
    "                             row.D, row.K,row.pc,row.beta,\n",
    "                             deltas = [dD, 0, 0], eta=1)\n",
    "            yvec = result[2]\n",
    "            y = sum(yvec)\n",
    "            if y > 0.01: \n",
    "                y_neg_invades = True \n",
    "                break\n",
    "    \n",
    "    row.loc['y_pos_invades'] = y_pos_invades\n",
    "    row.loc['y_neg_invades'] = y_neg_invades\n",
    "    return(row)\n",
    "\n",
    "def Perturb(row):\n",
    "# After the [u1,u2,bu,r1,r2] eq is perturbed with the addition of the a or b allele, get new frequencies\n",
    "# perturb by a magnitude of 0.01... so |dr1| = |dr2| = |du| = 0.01, and either |dx| or |dy| = 0.01\n",
    "\n",
    "    # use dyvec here but dxvec could work too\n",
    "    uvec = [row.u1eq, row.u2eq, row.bueq]\n",
    "    rvec = [row.r1eq, row.r2eq]\n",
    "    # get new post-perturb vectors\n",
    "    \n",
    "    # no need to check if valid\n",
    "    dy = 0.01\n",
    "    dy1vec = np.array([0.05, 0.3,0.48, 0.08])*dy\n",
    "    dy2vec = np.array([0.1,0.6,0.5,0.9])*dy\n",
    "    dbyvec = dy - dy1vec - dy2vec\n",
    "    which_y = [0,1,2,3]\n",
    "    \n",
    "    #dr... prune r + dr values that are invalid\n",
    "    \n",
    "    dr1=0 #the default is not changing r1\n",
    "    if rvec[0]>0:\n",
    "        dr1 = np.array([-0.01,0.01])\n",
    "        check_r1 = (rvec[0] + dr1 > 0)&(rvec[0] + dr1 < 1)\n",
    "        dr1 = dr1[check_r1]\n",
    "    dr2 = 0\n",
    "    if rvec[1]>0:\n",
    "        dr2 = np.array([-0.01,0.01])\n",
    "        check_r2 = (rvec[1] + dr2 > 0) & (rvec[1] + dr2 < 1)\n",
    "        dr2 = dr2[check_r2]\n",
    "    \n",
    "    # du perturbations... look similar to x perturbs, but opposite direction\n",
    "    du = -dy\n",
    "    du1vec = np.array([0.015, 0.29,0.49, 0.07])*du\n",
    "    du2vec = np.array([0.11,0.49,0.51,0.89])*du\n",
    "    dbuvec = du - du1vec - du2vec\n",
    "    which_u = [0,1,2,3]\n",
    "    for i in which_u:\n",
    "        duvec = [du1vec[i],du2vec[i],dbuvec[i]]\n",
    "        [du1vec[i],du2vec[i],dbuvec[i]] = Perturb_EdgeCase(uvec,duvec)\n",
    "    \n",
    "    # now find all the combinations\n",
    "    which_y_mesh, which_u_mesh, DR1, DR2 = np.meshgrid(which_y, which_u, dr1, dr2)\n",
    "    [which_y, which_u, dr1, dr2] = [np.ndarray.flatten(item) for \n",
    "                                    item in [which_y_mesh, which_u_mesh, DR1, DR2]]\n",
    "    y1 = dy1vec[which_y]; y2 = dy2vec[which_y]; by = dbyvec[which_y]\n",
    "    u1 = uvec[0] + du1vec[which_u]\n",
    "    u2 = uvec[1] + du2vec[which_u]\n",
    "    bu = uvec[2] + dbuvec[which_u]\n",
    "    r1 = rvec[0] + dr1\n",
    "    r2 = rvec[1] + dr2\n",
    "    \n",
    "    \n",
    "    return([u1,u2,bu],[y1,y2,by],[r1,r2])\n",
    "\n",
    "def Perturb_EdgeCase(uvec,duvec):\n",
    "    #recursively checks for edge cases so i don't get an invalid frequency. Adjusts duvec if needed\n",
    "    \n",
    "    # make sure using numpy arrays\n",
    "    du = sum(duvec)\n",
    "    uvec = np.array(uvec); duvec = np.array(duvec);\n",
    "    # find locations of edge cases\n",
    "    edge_bool = uvec + duvec <= 0\n",
    "    \n",
    "    n = sum(edge_bool)\n",
    "    if n>0:\n",
    "        duvec[edge_bool] = -uvec[edge_bool] +0.00001 # so not at exactly 0\n",
    "        du_remain = du - sum(duvec)\n",
    "        duvec[~edge_bool] = duvec[~edge_bool] + (1/np.float(3-n))*du_remain\n",
    "        \n",
    "        # make sure that we didn't cause a different frequency to be negative:\n",
    "        return(Perturb_EdgeCase(uvec,duvec))\n",
    "\n",
    "    else:\n",
    "        return(duvec)\n",
    "    \n",
    "\n",
    "def get_stable_check(df):\n",
    "    # this function is just a wrapper to be used with pool.map that takes a dataframe as an input and\n",
    "    # runs Check_Stable_D over the data frame\n",
    "    df = df.apply(lambda row: Check_Stable_D(row), axis = 1)\n",
    "    return(df)"
   ]
  },
  {
   "cell_type": "code",
   "execution_count": null,
   "metadata": {},
   "outputs": [],
   "source": [
    "\n",
    "cols = df.columns\n",
    "df_normal = df.query('C_D!=0')\n",
    "df_weird = df.query('C_D==0')\n"
   ]
  },
  {
   "cell_type": "code",
   "execution_count": null,
   "metadata": {},
   "outputs": [],
   "source": [
    "cores=mp.cpu_count()\n",
    "df_split = np.array_split(df_weird, cores, axis=0)\n",
    "pool = Pool(cores)\n",
    "df_out = np.vstack(pool.map(get_stable_check, df_split))\n",
    "pool.close()\n",
    "pool.join()\n",
    "pool.clear()\n",
    "df_fixed = pd.DataFrame(df_out, columns = cols) # restoring original column names\n",
    "df_total = df_normal.append(df_fixed)\n",
    "df_total.to_csv('UniqueEquilibriaDF.csv')"
   ]
  },
  {
   "cell_type": "markdown",
   "metadata": {},
   "source": [
    "# Next, go to SensitivityAnalysis.Rmd to see analysis of these equilibria"
   ]
  },
  {
   "cell_type": "code",
   "execution_count": null,
   "metadata": {},
   "outputs": [],
   "source": []
  }
 ],
 "metadata": {
  "kernelspec": {
   "display_name": "Python 3",
   "language": "python",
   "name": "python3"
  },
  "language_info": {
   "codemirror_mode": {
    "name": "ipython",
    "version": 3
   },
   "file_extension": ".py",
   "mimetype": "text/x-python",
   "name": "python",
   "nbconvert_exporter": "python",
   "pygments_lexer": "ipython3",
   "version": "3.7.6"
  }
 },
 "nbformat": 4,
 "nbformat_minor": 4
}
